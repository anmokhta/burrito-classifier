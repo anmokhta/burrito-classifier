{
 "cells": [
  {
   "cell_type": "markdown",
   "metadata": {},
   "source": [
    "# Extra Credit HW - Classification\n",
    "\n",
    "#### About this assignment: \n",
    "This is an **optional** assignment. If you choose to do it, your score on this assignment will replace your lowest homework score. In the event that your score on this assignment is lower than all your homework scores, then your lowest homework score will *not* be replaced, so there is no harm in attempting this assignment.\n",
    "\n",
    "This assignment introduces you to the classification problem in machine learning. We will not cover classification in lecture, but it is covered in your textbook. To start this assignment, you should first read through [Chapter 17 of your textbook](https://www.inferentialthinking.com/chapters/17/Classification.html).\n",
    "\n",
    "\n",
    "#### Due date: \n",
    "This assignment is due on **Wednesday, June 5 at 11:59pm**. If you have a slip day remaining, you can use one to extend the due date to Thursday.\n",
    "\n",
    "#### Learning goals:\n",
    "We will be analyzing San Diego burritos and classifying whether or not people recommend them.  By the end of the project, you should know how to:\n",
    "\n",
    "1. Build a k-nearest-neighbors classifier.\n",
    "2. Test a classifier on data.\n",
    "3. Evaluate different sets of features.\n",
    "4. Evaluate your classifier"
   ]
  },
  {
   "cell_type": "markdown",
   "metadata": {},
   "source": [
    "**Run the cell below** to prepare the automatic tests. **Passing the automatic tests does not guarantee full credit on any question.** The tests are provided to help catch some common errors, but it is your responsibility to answer the questions correctly."
   ]
  },
  {
   "cell_type": "code",
   "execution_count": 1,
   "metadata": {},
   "outputs": [
    {
     "name": "stdout",
     "output_type": "stream",
     "text": [
      "=====================================================================\n",
      "Assignment: Extra Credit HW: Burrito Classification\n",
      "OK, version v1.13.11\n",
      "=====================================================================\n",
      "\n"
     ]
    }
   ],
   "source": [
    "# Run this cell, but please don't change it.\n",
    "\n",
    "import numpy as np\n",
    "import math\n",
    "from datascience import *\n",
    "from scipy import stats\n",
    "\n",
    "# These lines set up the plotting functionality and formatting.\n",
    "import matplotlib\n",
    "matplotlib.use('Agg', warn=False)\n",
    "%matplotlib inline\n",
    "import matplotlib.pyplot as plt\n",
    "plt.style.use('fivethirtyeight')\n",
    "\n",
    "# Don't change this cell; just run it. \n",
    "from client.api.notebook import Notebook\n",
    "ok = Notebook('ec_hw.ok')\n",
    "#_ = ok.auth(inline=True, force=True)"
   ]
  },
  {
   "cell_type": "markdown",
   "metadata": {},
   "source": [
    "# 1. The Dataset"
   ]
  },
  {
   "cell_type": "markdown",
   "metadata": {},
   "source": [
    "## 1.1 Getting to Know Our Dataset\n",
    "\n",
    "Our dataset is a table of burrito reviews, collected by [Scott Cole](https://srcole.github.io/100burritos/), a data scientist in San Diego. The data was collected via a form that burrito eaters can fill out to give their impressions of a particular burrito. The burrito reviewer scores their burrito in ten different dimensions or features, such as volume, quality of fillings, quality of meat, etc. In addition, two summary ratings are included: whether you'd recommend the burrito to a friend, and an overall rating on a scale of 0 to 5. Cole's dataset contains over 350 burrito reviews, and if you want to contribute to his data science project by reviewing a burrito, just [fill out the form here](https://docs.google.com/forms/d/e/1FAIpQLSdWAkbSKzHydtzJ-AKHp_rXKHeG80cZuUBjyEeMAUZXJsiFKQ/viewform).\n",
    "\n",
    "For your reference, we include the full description of the ten features, quoted from [Cole's website](https://srcole.github.io/100burritos/).\n",
    "\n",
    "\"Contrary to popular belief, burritos do not merely exist in 3 dimensions. They transcend the physical limitations of space. From polling several San Diegans, we’ve established the 10 core dimensions of the San Diego burrito.\n",
    "\n",
    "1. **Volume** - “size matters,” “bigger is better,” or whatever your favorite innuendo is fits because there’s nothing more disconcerting than ordering a burrito and not being full.\n",
    "2. **Tortilla quality**\n",
    "3. **Temperature** - the Goldilocks zone\n",
    "4. **Meat quality**\n",
    "5. **Non-meat filling quality**\n",
    "6. **Meat:filling** - The ratio between meat and non-meat. Perhaps the golden ratio: 1.6180339887...\n",
    "7. **Uniformity** - Bites full of sour cream and cheese with no meat are disappointing.\n",
    "8. **Salsa quality** - and variety!\n",
    "9. **Flavor synergy** - \"That magical aspect a great burrito has, making everything come together like it is a gift from the skies\" - A wise Dutchman\n",
    "10. **Wrap integrity** - you ordered a burrito, not a burrito bowl.   \n",
    "\n",
    "All of these measures (except for Volume) are rated on a scale from 0 to 5, 0 being terrible, and 5 being optimal. In the future, Meat:Filling and Temperature measures may stray from this subjective scale in order to better quantify these two valuable burrito characteristics. Additionally, acquisition of a portable scale will allow collection of mass. Cost (in USD) and hunger level (on the same 0-5 scale) are measured as potential control factors. In addition to these 10 core dimensions, we also collect two summary statistics:\n",
    "\n",
    "* Overall rating - 0 to 5 stars\n",
    "* Recommendation - Yes/No. If a friend asked you about that burrito with the intent of purchasing one, would you recommend it?\"\n",
    "\n",
    "In this assignment, we will be trying to classify whether or not a burrito is recommended or not, based on it's scores in the ten features. \n",
    "\n",
    "Run the cell below to read in the `burritos` table. "
   ]
  },
  {
   "cell_type": "code",
   "execution_count": 2,
   "metadata": {
    "scrolled": true
   },
   "outputs": [
    {
     "data": {
      "text/html": [
       "<table border=\"1\" class=\"dataframe\">\n",
       "    <thead>\n",
       "        <tr>\n",
       "            <th>Location</th> <th>Burrito</th> <th>Date</th> <th>Neighborhood</th> <th>Address</th> <th>URL</th> <th>Yelp</th> <th>Google</th> <th>Chips</th> <th>Cost</th> <th>Hunger</th> <th>Mass (g)</th> <th>Density (g/mL)</th> <th>Length</th> <th>Circum</th> <th>Volume</th> <th>Tortilla</th> <th>Temp</th> <th>Meat</th> <th>Fillings</th> <th>Meat:filling</th> <th>Uniformity</th> <th>Salsa</th> <th>Synergy</th> <th>Wrap</th> <th>overall</th> <th>Reviewer</th> <th>Notes</th> <th>Unreliable</th> <th>NonSD</th> <th>Beef</th> <th>Pico</th> <th>Guac</th> <th>Cheese</th> <th>Fries</th> <th>Sour cream</th> <th>Pork</th> <th>Chicken</th> <th>Shrimp</th> <th>Fish</th> <th>Rice</th> <th>Beans</th> <th>Lettuce</th> <th>Tomato</th> <th>Bell peper</th> <th>Carrots</th> <th>Cabbage</th> <th>Sauce</th> <th>Salsa.1</th> <th>Cilantro</th> <th>Onion</th> <th>Taquito</th> <th>Pineapple</th> <th>Ham</th> <th>Chile relleno</th> <th>Nopales</th> <th>Lobster</th> <th>Queso</th> <th>Egg</th> <th>Mushroom</th> <th>Bacon</th> <th>Sushi</th> <th>Avocado</th> <th>Corn</th> <th>Zucchini</th> <th>Recommended</th>\n",
       "        </tr>\n",
       "    </thead>\n",
       "    <tbody>\n",
       "        <tr>\n",
       "            <td>Rudy's Taco Shop   </td> <td>Chicken              </td> <td>4/9/2016 </td> <td>Solana Beach</td> <td>524 Stevens Ave </td> <td>http://www.rudystacoshop.com/                         </td> <td>4   </td> <td>4.3   </td> <td>nan  </td> <td>6.6 </td> <td>3.5   </td> <td>nan     </td> <td>nan           </td> <td>nan   </td> <td>nan   </td> <td>nan   </td> <td>3.5     </td> <td>3   </td> <td>4   </td> <td>4.5     </td> <td>3           </td> <td>1         </td> <td>3    </td> <td>4      </td> <td>0.5 </td> <td>2.8    </td> <td>Scott   </td> <td>Salsa Fresca is good, way too small                      </td> <td>nan       </td> <td>nan  </td> <td>nan </td> <td>X   </td> <td>X   </td> <td>nan   </td> <td>nan  </td> <td>nan       </td> <td>nan </td> <td>X      </td> <td>nan   </td> <td>nan </td> <td>nan </td> <td>nan  </td> <td>nan    </td> <td>nan   </td> <td>nan       </td> <td>nan    </td> <td>nan    </td> <td>nan  </td> <td>nan    </td> <td>nan     </td> <td>nan  </td> <td>nan    </td> <td>nan      </td> <td>nan </td> <td>nan          </td> <td>nan    </td> <td>nan    </td> <td>nan  </td> <td>nan </td> <td>nan     </td> <td>nan  </td> <td>nan  </td> <td>nan    </td> <td>nan </td> <td>nan     </td> <td>No         </td>\n",
       "        </tr>\n",
       "        <tr>\n",
       "            <td>Rudy's Taco Shop   </td> <td>Carnitas             </td> <td>4/9/2016 </td> <td>nan         </td> <td>nan             </td> <td>nan                                                   </td> <td>nan </td> <td>nan   </td> <td>nan  </td> <td>6.6 </td> <td>3     </td> <td>nan     </td> <td>nan           </td> <td>nan   </td> <td>nan   </td> <td>nan   </td> <td>3       </td> <td>2.5 </td> <td>3   </td> <td>4       </td> <td>2           </td> <td>1         </td> <td>3    </td> <td>3      </td> <td>5   </td> <td>3      </td> <td>Emily   </td> <td>nan                                                      </td> <td>nan       </td> <td>nan  </td> <td>nan </td> <td>X   </td> <td>X   </td> <td>nan   </td> <td>nan  </td> <td>nan       </td> <td>X   </td> <td>nan    </td> <td>nan   </td> <td>nan </td> <td>nan </td> <td>nan  </td> <td>nan    </td> <td>nan   </td> <td>nan       </td> <td>nan    </td> <td>nan    </td> <td>nan  </td> <td>nan    </td> <td>nan     </td> <td>nan  </td> <td>nan    </td> <td>nan      </td> <td>nan </td> <td>nan          </td> <td>nan    </td> <td>nan    </td> <td>nan  </td> <td>nan </td> <td>nan     </td> <td>nan  </td> <td>nan  </td> <td>nan    </td> <td>nan </td> <td>nan     </td> <td>No         </td>\n",
       "        </tr>\n",
       "        <tr>\n",
       "            <td>Taco Stand         </td> <td>Carne asada          </td> <td>4/14/2016</td> <td>nan         </td> <td>nan             </td> <td>nan                                                   </td> <td>nan </td> <td>nan   </td> <td>nan  </td> <td>7.89</td> <td>3.5   </td> <td>nan     </td> <td>nan           </td> <td>nan   </td> <td>nan   </td> <td>nan   </td> <td>3       </td> <td>2   </td> <td>4.5 </td> <td>4       </td> <td>4           </td> <td>1.5       </td> <td>4.5  </td> <td>4.5    </td> <td>4.5 </td> <td>4.4    </td> <td>Scott   </td> <td>Too small                                                </td> <td>nan       </td> <td>nan  </td> <td>X   </td> <td>X   </td> <td>X   </td> <td>nan   </td> <td>nan  </td> <td>nan       </td> <td>nan </td> <td>nan    </td> <td>nan   </td> <td>nan </td> <td>nan </td> <td>nan  </td> <td>nan    </td> <td>nan   </td> <td>nan       </td> <td>nan    </td> <td>nan    </td> <td>nan  </td> <td>nan    </td> <td>nan     </td> <td>nan  </td> <td>nan    </td> <td>nan      </td> <td>nan </td> <td>nan          </td> <td>nan    </td> <td>nan    </td> <td>nan  </td> <td>nan </td> <td>nan     </td> <td>nan  </td> <td>nan  </td> <td>nan    </td> <td>nan </td> <td>nan     </td> <td>Yes        </td>\n",
       "        </tr>\n",
       "        <tr>\n",
       "            <td>Taco Stand         </td> <td>Carne asada          </td> <td>4/14/2016</td> <td>nan         </td> <td>nan             </td> <td>nan                                                   </td> <td>nan </td> <td>nan   </td> <td>nan  </td> <td>7.89</td> <td>2     </td> <td>nan     </td> <td>nan           </td> <td>nan   </td> <td>nan   </td> <td>nan   </td> <td>3       </td> <td>2.5 </td> <td>4.5 </td> <td>3.5     </td> <td>4.5         </td> <td>3         </td> <td>4    </td> <td>3.5    </td> <td>5   </td> <td>3.5    </td> <td>Richard </td> <td>A little small. No rice and beans or cheese or sour cream</td> <td>nan       </td> <td>nan  </td> <td>x   </td> <td>x   </td> <td>x   </td> <td>nan   </td> <td>nan  </td> <td>nan       </td> <td>nan </td> <td>nan    </td> <td>nan   </td> <td>nan </td> <td>nan </td> <td>nan  </td> <td>nan    </td> <td>nan   </td> <td>nan       </td> <td>nan    </td> <td>nan    </td> <td>nan  </td> <td>nan    </td> <td>nan     </td> <td>nan  </td> <td>nan    </td> <td>nan      </td> <td>nan </td> <td>nan          </td> <td>nan    </td> <td>nan    </td> <td>nan  </td> <td>nan </td> <td>nan     </td> <td>nan  </td> <td>nan  </td> <td>nan    </td> <td>nan </td> <td>nan     </td> <td>Yes        </td>\n",
       "        </tr>\n",
       "        <tr>\n",
       "            <td>California Burritos</td> <td>California Everything</td> <td>4/15/2016</td> <td>Linda Vista </td> <td>7754 Starling Dr</td> <td>https://www.yelp.com/biz/california-burritos-san-diego</td> <td>4.5 </td> <td>4.4   </td> <td>x    </td> <td>6.25</td> <td>4     </td> <td>nan     </td> <td>nan           </td> <td>nan   </td> <td>nan   </td> <td>nan   </td> <td>4.5     </td> <td>4.5 </td> <td>2.5 </td> <td>3.5     </td> <td>3.5         </td> <td>3.5       </td> <td>3    </td> <td>4      </td> <td>5   </td> <td>4.1    </td> <td>Scott   </td> <td>nan                                                      </td> <td>nan       </td> <td>nan  </td> <td>x   </td> <td>x   </td> <td>x   </td> <td>x     </td> <td>x    </td> <td>x         </td> <td>nan </td> <td>nan    </td> <td>nan   </td> <td>nan </td> <td>nan </td> <td>nan  </td> <td>nan    </td> <td>nan   </td> <td>nan       </td> <td>nan    </td> <td>nan    </td> <td>nan  </td> <td>nan    </td> <td>nan     </td> <td>nan  </td> <td>nan    </td> <td>nan      </td> <td>nan </td> <td>nan          </td> <td>nan    </td> <td>nan    </td> <td>nan  </td> <td>nan </td> <td>nan     </td> <td>nan  </td> <td>nan  </td> <td>nan    </td> <td>nan </td> <td>nan     </td> <td>Yes        </td>\n",
       "        </tr>\n",
       "    </tbody>\n",
       "</table>\n",
       "<p>... (407 rows omitted)</p>"
      ],
      "text/plain": [
       "<IPython.core.display.HTML object>"
      ]
     },
     "metadata": {},
     "output_type": "display_data"
    }
   ],
   "source": [
    "burritos_dataset = Table.read_table('burritos.csv')\n",
    "burritos_dataset.show(5)"
   ]
  },
  {
   "cell_type": "markdown",
   "metadata": {},
   "source": [
    "**Question 1.1** First, let's try to get a list of all the burrito locations mentioned in the table, along with how many reviews they have. Assign the variable `burrito_places` to be a new table with two columns, where one column records the burrito location, and the other column records the number of reviews it has. \n",
    "\n",
    "Note that some places may be listed more than once because reviewers might have filled out the form differently. For example, there will be separate rows for \"California Burrito Company\", \"California Burritos\", and California burritos\" in the table `burrito_places`, even though these are likely all the same restaurant. You don't need to reconcile these differences for this question, but just notice that these types of issues are likely to be present when working with real data."
   ]
  },
  {
   "cell_type": "code",
   "execution_count": 3,
   "metadata": {},
   "outputs": [
    {
     "data": {
      "text/html": [
       "<table border=\"1\" class=\"dataframe\">\n",
       "    <thead>\n",
       "        <tr>\n",
       "            <th>Location</th> <th>count</th>\n",
       "        </tr>\n",
       "    </thead>\n",
       "    <tbody>\n",
       "        <tr>\n",
       "            <td>Albertacos                </td> <td>2    </td>\n",
       "        </tr>\n",
       "        <tr>\n",
       "            <td>Burrito Box               </td> <td>1    </td>\n",
       "        </tr>\n",
       "        <tr>\n",
       "            <td>Burrito Factory           </td> <td>1    </td>\n",
       "        </tr>\n",
       "        <tr>\n",
       "            <td>Burros and Fries          </td> <td>4    </td>\n",
       "        </tr>\n",
       "        <tr>\n",
       "            <td>Caliente Mexican Food     </td> <td>4    </td>\n",
       "        </tr>\n",
       "        <tr>\n",
       "            <td>California Burrito Company</td> <td>5    </td>\n",
       "        </tr>\n",
       "        <tr>\n",
       "            <td>California Burritos       </td> <td>23   </td>\n",
       "        </tr>\n",
       "        <tr>\n",
       "            <td>California burritos       </td> <td>6    </td>\n",
       "        </tr>\n",
       "        <tr>\n",
       "            <td>Cancun Mexican & Seafood  </td> <td>6    </td>\n",
       "        </tr>\n",
       "        <tr>\n",
       "            <td>Carmen's Mexican Food     </td> <td>2    </td>\n",
       "        </tr>\n",
       "    </tbody>\n",
       "</table>\n",
       "<p>... (95 rows omitted)</p>"
      ],
      "text/plain": [
       "Location                   | count\n",
       "Albertacos                 | 2\n",
       "Burrito Box                | 1\n",
       "Burrito Factory            | 1\n",
       "Burros and Fries           | 4\n",
       "Caliente Mexican Food      | 4\n",
       "California Burrito Company | 5\n",
       "California Burritos        | 23\n",
       "California burritos        | 6\n",
       "Cancun Mexican & Seafood   | 6\n",
       "Carmen's Mexican Food      | 2\n",
       "... (95 rows omitted)"
      ]
     },
     "execution_count": 3,
     "metadata": {},
     "output_type": "execute_result"
    }
   ],
   "source": [
    "burrito_places = burritos_dataset.group(\"Location\")\n",
    "burrito_places"
   ]
  },
  {
   "cell_type": "code",
   "execution_count": 4,
   "metadata": {},
   "outputs": [
    {
     "data": {
      "text/plain": [
       "True"
      ]
     },
     "execution_count": 4,
     "metadata": {},
     "output_type": "execute_result"
    }
   ],
   "source": [
    "burrito_places.labels == ('Location', 'count')"
   ]
  },
  {
   "cell_type": "code",
   "execution_count": 5,
   "metadata": {},
   "outputs": [
    {
     "name": "stdout",
     "output_type": "stream",
     "text": [
      "~~~~~~~~~~~~~~~~~~~~~~~~~~~~~~~~~~~~~~~~~~~~~~~~~~~~~~~~~~~~~~~~~~~~~\n",
      "Running tests\n",
      "\n",
      "---------------------------------------------------------------------\n",
      "Test summary\n",
      "    Passed: 1\n",
      "    Failed: 0\n",
      "[ooooooooook] 100.0% passed\n",
      "\n"
     ]
    }
   ],
   "source": [
    "_ = ok.grade('q1_1')"
   ]
  },
  {
   "cell_type": "markdown",
   "metadata": {},
   "source": [
    "**Question 1.2** Which two burrito locations have the most reviews?\n",
    "Set `most_reviews_1` and `most_reviews_2` to be the burrito locations with most and second most number of reviews. The order doesn't matter."
   ]
  },
  {
   "cell_type": "code",
   "execution_count": 6,
   "metadata": {},
   "outputs": [
    {
     "data": {
      "text/html": [
       "<table border=\"1\" class=\"dataframe\">\n",
       "    <thead>\n",
       "        <tr>\n",
       "            <th>Location</th> <th>count</th>\n",
       "        </tr>\n",
       "    </thead>\n",
       "    <tbody>\n",
       "        <tr>\n",
       "            <td>Taco Villa             </td> <td>28   </td>\n",
       "        </tr>\n",
       "        <tr>\n",
       "            <td>Lucha Libre North Park </td> <td>28   </td>\n",
       "        </tr>\n",
       "        <tr>\n",
       "            <td>Taco Stand             </td> <td>25   </td>\n",
       "        </tr>\n",
       "        <tr>\n",
       "            <td>Rigoberto's Taco Shop  </td> <td>25   </td>\n",
       "        </tr>\n",
       "        <tr>\n",
       "            <td>California Burritos    </td> <td>23   </td>\n",
       "        </tr>\n",
       "        <tr>\n",
       "            <td>Los Tacos              </td> <td>12   </td>\n",
       "        </tr>\n",
       "        <tr>\n",
       "            <td>Los Primos Mexican Food</td> <td>12   </td>\n",
       "        </tr>\n",
       "        <tr>\n",
       "            <td>El Zarape              </td> <td>10   </td>\n",
       "        </tr>\n",
       "        <tr>\n",
       "            <td>Vallarta express       </td> <td>9    </td>\n",
       "        </tr>\n",
       "        <tr>\n",
       "            <td>Valentines Mexican Food</td> <td>9    </td>\n",
       "        </tr>\n",
       "    </tbody>\n",
       "</table>\n",
       "<p>... (95 rows omitted)</p>"
      ],
      "text/plain": [
       "Location                | count\n",
       "Taco Villa              | 28\n",
       "Lucha Libre North Park  | 28\n",
       "Taco Stand              | 25\n",
       "Rigoberto's Taco Shop   | 25\n",
       "California Burritos     | 23\n",
       "Los Tacos               | 12\n",
       "Los Primos Mexican Food | 12\n",
       "El Zarape               | 10\n",
       "Vallarta express        | 9\n",
       "Valentines Mexican Food | 9\n",
       "... (95 rows omitted)"
      ]
     },
     "execution_count": 6,
     "metadata": {},
     "output_type": "execute_result"
    }
   ],
   "source": [
    "# Use the burrito_places table to find out which  location has the most reviews\n",
    "burrito_places.sort(\"count\", descending=True)"
   ]
  },
  {
   "cell_type": "code",
   "execution_count": 7,
   "metadata": {},
   "outputs": [],
   "source": [
    "most_reviews_1 = \"Taco Villa\"\n",
    "most_reviews_2 = \"Lucha Libre North Park\""
   ]
  },
  {
   "cell_type": "code",
   "execution_count": 8,
   "metadata": {},
   "outputs": [
    {
     "data": {
      "text/plain": [
       "True"
      ]
     },
     "execution_count": 8,
     "metadata": {},
     "output_type": "execute_result"
    }
   ],
   "source": [
    "isinstance(most_reviews_1,str) and isinstance(most_reviews_2,str)"
   ]
  },
  {
   "cell_type": "code",
   "execution_count": 9,
   "metadata": {},
   "outputs": [
    {
     "name": "stdout",
     "output_type": "stream",
     "text": [
      "~~~~~~~~~~~~~~~~~~~~~~~~~~~~~~~~~~~~~~~~~~~~~~~~~~~~~~~~~~~~~~~~~~~~~\n",
      "Running tests\n",
      "\n",
      "---------------------------------------------------------------------\n",
      "Test summary\n",
      "    Passed: 1\n",
      "    Failed: 0\n",
      "[ooooooooook] 100.0% passed\n",
      "\n"
     ]
    }
   ],
   "source": [
    "_ = ok.grade('q1_2')"
   ]
  },
  {
   "cell_type": "markdown",
   "metadata": {},
   "source": [
    "## 1.2 Cleaning our Data"
   ]
  },
  {
   "cell_type": "markdown",
   "metadata": {},
   "source": [
    "Taking a look at our data, we can notice something odd."
   ]
  },
  {
   "cell_type": "code",
   "execution_count": 10,
   "metadata": {},
   "outputs": [
    {
     "data": {
      "text/plain": [
       "array(['No', 'Yes', 'nan'], \n",
       "      dtype='<U3')"
      ]
     },
     "execution_count": 10,
     "metadata": {},
     "output_type": "execute_result"
    }
   ],
   "source": [
    "# Print out the unique elements in the recommended column\n",
    "recommended_column = burritos_dataset.column(\"Recommended\")\n",
    "np.unique(recommended_column)"
   ]
  },
  {
   "cell_type": "code",
   "execution_count": 11,
   "metadata": {},
   "outputs": [
    {
     "data": {
      "text/plain": [
       "array([ 1.  ,  1.5 ,  2.  ,  2.5 ,  2.6 ,  2.7 ,  2.75,  2.8 ,  3.  ,\n",
       "        3.2 ,  3.3 ,  3.5 ,  3.7 ,  3.75,  3.8 ,  3.9 ,  4.  ,  4.1 ,\n",
       "        4.2 ,  4.3 ,  4.5 ,  4.7 ,  5.  ,   nan,   nan,   nan,   nan,\n",
       "         nan,   nan,   nan,   nan,   nan,   nan,   nan,   nan,   nan])"
      ]
     },
     "execution_count": 11,
     "metadata": {},
     "output_type": "execute_result"
    }
   ],
   "source": [
    "# Print out the unique elements in the recommended column\n",
    "recommended_column = burritos_dataset.column(\"Meat\")\n",
    "np.unique(recommended_column)"
   ]
  },
  {
   "cell_type": "markdown",
   "metadata": {},
   "source": [
    "Notice that some of the rows say `nan`. `nan` means \"not a number\". In this case, the reviews that left the recommendation field empty are instead filled with the term `nan`."
   ]
  },
  {
   "cell_type": "markdown",
   "metadata": {},
   "source": [
    "**Question 1.3**  Let's get rid of those `nan` rows in our table, and only keep the other rows. Set the variable `cleaned_table` to this new modified table. "
   ]
  },
  {
   "cell_type": "markdown",
   "metadata": {},
   "source": [
    "For the `Recommended` column, because the `nan`s are just strings, we can remove them by filtering out the rows in which the \"Recommended\" column has the string `\"nan\"`. Remove all such rows and save your result as `cleaned_table`."
   ]
  },
  {
   "cell_type": "code",
   "execution_count": 12,
   "metadata": {
    "scrolled": true
   },
   "outputs": [
    {
     "data": {
      "text/plain": [
       "array(['No', 'Yes'], \n",
       "      dtype='<U3')"
      ]
     },
     "execution_count": 12,
     "metadata": {},
     "output_type": "execute_result"
    }
   ],
   "source": [
    "cleaned_table = burritos_dataset.where(\"Recommended\", are.not_equal_to(\"nan\"))\n",
    "\n",
    "# Check that nans were removed\n",
    "recommended_column = cleaned_table.column(\"Recommended\")\n",
    "np.unique(recommended_column)"
   ]
  },
  {
   "cell_type": "markdown",
   "metadata": {},
   "source": [
    "For the `Meat` and `Tortilla` columns, these nans are actually not strings, but numbers. Therefore, `are.not_equal_to` on a string `nan` wont work! We can use a trick to remove them from the data by only picking data values that are above -1. Try this strategy to remove all the rows with `nan`s in the `Meat` column or the `Tortilla` column. Save your result as `cleaned_table`."
   ]
  },
  {
   "cell_type": "code",
   "execution_count": 13,
   "metadata": {},
   "outputs": [
    {
     "data": {
      "text/plain": [
       "array([ 1.  ,  1.5 ,  2.  ,  2.5 ,  2.6 ,  2.7 ,  2.8 ,  3.  ,  3.3 ,\n",
       "        3.5 ,  3.7 ,  3.75,  3.8 ,  4.  ,  4.1 ,  4.2 ,  4.5 ,  4.7 ,  5.  ])"
      ]
     },
     "execution_count": 13,
     "metadata": {},
     "output_type": "execute_result"
    }
   ],
   "source": [
    "cleaned_table = cleaned_table.where(\"Meat\", are.above(-1))\n",
    "\n",
    "# Check that nans were removed from Meat\n",
    "meat_column = cleaned_table.column(\"Meat\")\n",
    "np.unique(meat_column)"
   ]
  },
  {
   "cell_type": "markdown",
   "metadata": {},
   "source": [
    "# 2. K-Nearest Neighbors (KNN)"
   ]
  },
  {
   "cell_type": "markdown",
   "metadata": {},
   "source": [
    "## 2.1 KNN - a Guided Example\n",
    "\n",
    "**KNN algorithm** is one of the simplest classification algorithms and it is one of the most used learning algorithms. But wait, what is classification?\n",
    "\n",
    "**Classification** is the process of predicting the class of given data points. Classes are sometimes called labels or categories."
   ]
  },
  {
   "cell_type": "markdown",
   "metadata": {},
   "source": [
    "Make sure to read through [Chapter 17 of your textbook](https://www.inferentialthinking.com/chapters/17/Classification.html) to learn more about KNN. We will briefly introduce it here.\n",
    "\n",
    "Let's look at the example at the beginning of [Chapter 17](https://www.inferentialthinking.com/chapters/17/Classification.html). We have a dataset that was collected to help doctors diagnose **chronic kidney disease (CKD)**, which includes several measurements from a blood test. We’d like to find which measurements are most useful for diagnosing CKD, and develop a way to **classify a future patient as “has CKD”** or **“doesn’t have CKD”** based on their blood test results.\n"
   ]
  },
  {
   "cell_type": "code",
   "execution_count": 14,
   "metadata": {},
   "outputs": [
    {
     "data": {
      "text/html": [
       "<table border=\"1\" class=\"dataframe\">\n",
       "    <thead>\n",
       "        <tr>\n",
       "            <th>Age</th> <th>Blood Pressure</th> <th>Specific Gravity</th> <th>Albumin</th> <th>Sugar</th> <th>Red Blood Cells</th> <th>Pus Cell</th> <th>Pus Cell clumps</th> <th>Bacteria</th> <th>Glucose</th> <th>Blood Urea</th> <th>Serum Creatinine</th> <th>Sodium</th> <th>Potassium</th> <th>Hemoglobin</th> <th>Packed Cell Volume</th> <th>White Blood Cell Count</th> <th>Red Blood Cell Count</th> <th>Hypertension</th> <th>Diabetes Mellitus</th> <th>Coronary Artery Disease</th> <th>Appetite</th> <th>Pedal Edema</th> <th>Anemia</th> <th>Class</th>\n",
       "        </tr>\n",
       "    </thead>\n",
       "    <tbody>\n",
       "        <tr>\n",
       "            <td>48  </td> <td>70            </td> <td>1.005           </td> <td>4      </td> <td>0    </td> <td>normal         </td> <td>abnormal</td> <td>present        </td> <td>notpresent</td> <td>117    </td> <td>56        </td> <td>3.8             </td> <td>111   </td> <td>2.5      </td> <td>11.2      </td> <td>32                </td> <td>6700                  </td> <td>3.9                 </td> <td>yes         </td> <td>no               </td> <td>no                     </td> <td>poor    </td> <td>yes        </td> <td>yes   </td> <td>1    </td>\n",
       "        </tr>\n",
       "        <tr>\n",
       "            <td>53  </td> <td>90            </td> <td>1.02            </td> <td>2      </td> <td>0    </td> <td>abnormal       </td> <td>abnormal</td> <td>present        </td> <td>notpresent</td> <td>70     </td> <td>107       </td> <td>7.2             </td> <td>114   </td> <td>3.7      </td> <td>9.5       </td> <td>29                </td> <td>12100                 </td> <td>3.7                 </td> <td>yes         </td> <td>yes              </td> <td>no                     </td> <td>poor    </td> <td>no         </td> <td>yes   </td> <td>1    </td>\n",
       "        </tr>\n",
       "        <tr>\n",
       "            <td>63  </td> <td>70            </td> <td>1.01            </td> <td>3      </td> <td>0    </td> <td>abnormal       </td> <td>abnormal</td> <td>present        </td> <td>notpresent</td> <td>380    </td> <td>60        </td> <td>2.7             </td> <td>131   </td> <td>4.2      </td> <td>10.8      </td> <td>32                </td> <td>4500                  </td> <td>3.8                 </td> <td>yes         </td> <td>yes              </td> <td>no                     </td> <td>poor    </td> <td>yes        </td> <td>no    </td> <td>1    </td>\n",
       "        </tr>\n",
       "        <tr>\n",
       "            <td>68  </td> <td>80            </td> <td>1.01            </td> <td>3      </td> <td>2    </td> <td>normal         </td> <td>abnormal</td> <td>present        </td> <td>present   </td> <td>157    </td> <td>90        </td> <td>4.1             </td> <td>130   </td> <td>6.4      </td> <td>5.6       </td> <td>16                </td> <td>11000                 </td> <td>2.6                 </td> <td>yes         </td> <td>yes              </td> <td>yes                    </td> <td>poor    </td> <td>yes        </td> <td>no    </td> <td>1    </td>\n",
       "        </tr>\n",
       "        <tr>\n",
       "            <td>61  </td> <td>80            </td> <td>1.015           </td> <td>2      </td> <td>0    </td> <td>abnormal       </td> <td>abnormal</td> <td>notpresent     </td> <td>notpresent</td> <td>173    </td> <td>148       </td> <td>3.9             </td> <td>135   </td> <td>5.2      </td> <td>7.7       </td> <td>24                </td> <td>9200                  </td> <td>3.2                 </td> <td>yes         </td> <td>yes              </td> <td>yes                    </td> <td>poor    </td> <td>yes        </td> <td>yes   </td> <td>1    </td>\n",
       "        </tr>\n",
       "        <tr>\n",
       "            <td>48  </td> <td>80            </td> <td>1.025           </td> <td>4      </td> <td>0    </td> <td>normal         </td> <td>abnormal</td> <td>notpresent     </td> <td>notpresent</td> <td>95     </td> <td>163       </td> <td>7.7             </td> <td>136   </td> <td>3.8      </td> <td>9.8       </td> <td>32                </td> <td>6900                  </td> <td>3.4                 </td> <td>yes         </td> <td>no               </td> <td>no                     </td> <td>good    </td> <td>no         </td> <td>yes   </td> <td>1    </td>\n",
       "        </tr>\n",
       "        <tr>\n",
       "            <td>69  </td> <td>70            </td> <td>1.01            </td> <td>3      </td> <td>4    </td> <td>normal         </td> <td>abnormal</td> <td>notpresent     </td> <td>notpresent</td> <td>264    </td> <td>87        </td> <td>2.7             </td> <td>130   </td> <td>4        </td> <td>12.5      </td> <td>37                </td> <td>9600                  </td> <td>4.1                 </td> <td>yes         </td> <td>yes              </td> <td>yes                    </td> <td>good    </td> <td>yes        </td> <td>no    </td> <td>1    </td>\n",
       "        </tr>\n",
       "        <tr>\n",
       "            <td>73  </td> <td>70            </td> <td>1.005           </td> <td>0      </td> <td>0    </td> <td>normal         </td> <td>normal  </td> <td>notpresent     </td> <td>notpresent</td> <td>70     </td> <td>32        </td> <td>0.9             </td> <td>125   </td> <td>4        </td> <td>10        </td> <td>29                </td> <td>18900                 </td> <td>3.5                 </td> <td>yes         </td> <td>yes              </td> <td>no                     </td> <td>good    </td> <td>yes        </td> <td>no    </td> <td>1    </td>\n",
       "        </tr>\n",
       "        <tr>\n",
       "            <td>73  </td> <td>80            </td> <td>1.02            </td> <td>2      </td> <td>0    </td> <td>abnormal       </td> <td>abnormal</td> <td>notpresent     </td> <td>notpresent</td> <td>253    </td> <td>142       </td> <td>4.6             </td> <td>138   </td> <td>5.8      </td> <td>10.5      </td> <td>33                </td> <td>7200                  </td> <td>4.3                 </td> <td>yes         </td> <td>yes              </td> <td>yes                    </td> <td>good    </td> <td>no         </td> <td>no    </td> <td>1    </td>\n",
       "        </tr>\n",
       "        <tr>\n",
       "            <td>46  </td> <td>60            </td> <td>1.01            </td> <td>1      </td> <td>0    </td> <td>normal         </td> <td>normal  </td> <td>notpresent     </td> <td>notpresent</td> <td>163    </td> <td>92        </td> <td>3.3             </td> <td>141   </td> <td>4        </td> <td>9.8       </td> <td>28                </td> <td>14600                 </td> <td>3.2                 </td> <td>yes         </td> <td>yes              </td> <td>no                     </td> <td>good    </td> <td>no         </td> <td>no    </td> <td>1    </td>\n",
       "        </tr>\n",
       "    </tbody>\n",
       "</table>\n",
       "<p>... (148 rows omitted)</p>"
      ],
      "text/plain": [
       "Age  | Blood Pressure | Specific Gravity | Albumin | Sugar | Red Blood Cells | Pus Cell | Pus Cell clumps | Bacteria   | Glucose | Blood Urea | Serum Creatinine | Sodium | Potassium | Hemoglobin | Packed Cell Volume | White Blood Cell Count | Red Blood Cell Count | Hypertension | Diabetes Mellitus | Coronary Artery Disease | Appetite | Pedal Edema | Anemia | Class\n",
       "48   | 70             | 1.005            | 4       | 0     | normal          | abnormal | present         | notpresent | 117     | 56         | 3.8              | 111    | 2.5       | 11.2       | 32                 | 6700                   | 3.9                  | yes          | no                | no                      | poor     | yes         | yes    | 1\n",
       "53   | 90             | 1.02             | 2       | 0     | abnormal        | abnormal | present         | notpresent | 70      | 107        | 7.2              | 114    | 3.7       | 9.5        | 29                 | 12100                  | 3.7                  | yes          | yes               | no                      | poor     | no          | yes    | 1\n",
       "63   | 70             | 1.01             | 3       | 0     | abnormal        | abnormal | present         | notpresent | 380     | 60         | 2.7              | 131    | 4.2       | 10.8       | 32                 | 4500                   | 3.8                  | yes          | yes               | no                      | poor     | yes         | no     | 1\n",
       "68   | 80             | 1.01             | 3       | 2     | normal          | abnormal | present         | present    | 157     | 90         | 4.1              | 130    | 6.4       | 5.6        | 16                 | 11000                  | 2.6                  | yes          | yes               | yes                     | poor     | yes         | no     | 1\n",
       "61   | 80             | 1.015            | 2       | 0     | abnormal        | abnormal | notpresent      | notpresent | 173     | 148        | 3.9              | 135    | 5.2       | 7.7        | 24                 | 9200                   | 3.2                  | yes          | yes               | yes                     | poor     | yes         | yes    | 1\n",
       "48   | 80             | 1.025            | 4       | 0     | normal          | abnormal | notpresent      | notpresent | 95      | 163        | 7.7              | 136    | 3.8       | 9.8        | 32                 | 6900                   | 3.4                  | yes          | no                | no                      | good     | no          | yes    | 1\n",
       "69   | 70             | 1.01             | 3       | 4     | normal          | abnormal | notpresent      | notpresent | 264     | 87         | 2.7              | 130    | 4         | 12.5       | 37                 | 9600                   | 4.1                  | yes          | yes               | yes                     | good     | yes         | no     | 1\n",
       "73   | 70             | 1.005            | 0       | 0     | normal          | normal   | notpresent      | notpresent | 70      | 32         | 0.9              | 125    | 4         | 10         | 29                 | 18900                  | 3.5                  | yes          | yes               | no                      | good     | yes         | no     | 1\n",
       "73   | 80             | 1.02             | 2       | 0     | abnormal        | abnormal | notpresent      | notpresent | 253     | 142        | 4.6              | 138    | 5.8       | 10.5       | 33                 | 7200                   | 4.3                  | yes          | yes               | yes                     | good     | no          | no     | 1\n",
       "46   | 60             | 1.01             | 1       | 0     | normal          | normal   | notpresent      | notpresent | 163     | 92         | 3.3              | 141    | 4         | 9.8        | 28                 | 14600                  | 3.2                  | yes          | yes               | no                      | good     | no          | no     | 1\n",
       "... (148 rows omitted)"
      ]
     },
     "execution_count": 14,
     "metadata": {},
     "output_type": "execute_result"
    }
   ],
   "source": [
    "ckd = Table.read_table('ckd.csv').relabeled('Blood Glucose Random', 'Glucose')\n",
    "ckd"
   ]
  },
  {
   "cell_type": "markdown",
   "metadata": {},
   "source": [
    "Now, we will only look at a few important factors among all the measurements taken: Hemoglobin and Glucose. We will also work entirely in standard units so we don't have to worry about the scale of each measurement."
   ]
  },
  {
   "cell_type": "code",
   "execution_count": 15,
   "metadata": {},
   "outputs": [
    {
     "data": {
      "text/html": [
       "<table border=\"1\" class=\"dataframe\">\n",
       "    <thead>\n",
       "        <tr>\n",
       "            <th>Hemoglobin</th> <th>Glucose</th> <th>Class</th>\n",
       "        </tr>\n",
       "    </thead>\n",
       "    <tbody>\n",
       "        <tr>\n",
       "            <td>-0.865744 </td> <td>-0.221549</td> <td>1    </td>\n",
       "        </tr>\n",
       "        <tr>\n",
       "            <td>-1.45745  </td> <td>-0.947597</td> <td>1    </td>\n",
       "        </tr>\n",
       "        <tr>\n",
       "            <td>-1.00497  </td> <td>3.84123  </td> <td>1    </td>\n",
       "        </tr>\n",
       "        <tr>\n",
       "            <td>-2.81488  </td> <td>0.396364 </td> <td>1    </td>\n",
       "        </tr>\n",
       "        <tr>\n",
       "            <td>-2.08395  </td> <td>0.643529 </td> <td>1    </td>\n",
       "        </tr>\n",
       "        <tr>\n",
       "            <td>-1.35303  </td> <td>-0.561402</td> <td>1    </td>\n",
       "        </tr>\n",
       "        <tr>\n",
       "            <td>-0.413266 </td> <td>2.04928  </td> <td>1    </td>\n",
       "        </tr>\n",
       "        <tr>\n",
       "            <td>-1.28342  </td> <td>-0.947597</td> <td>1    </td>\n",
       "        </tr>\n",
       "        <tr>\n",
       "            <td>-1.10939  </td> <td>1.87936  </td> <td>1    </td>\n",
       "        </tr>\n",
       "        <tr>\n",
       "            <td>-1.35303  </td> <td>0.489051 </td> <td>1    </td>\n",
       "        </tr>\n",
       "    </tbody>\n",
       "</table>\n",
       "<p>... (148 rows omitted)</p>"
      ],
      "text/plain": [
       "Hemoglobin | Glucose   | Class\n",
       "-0.865744  | -0.221549 | 1\n",
       "-1.45745   | -0.947597 | 1\n",
       "-1.00497   | 3.84123   | 1\n",
       "-2.81488   | 0.396364  | 1\n",
       "-2.08395   | 0.643529  | 1\n",
       "-1.35303   | -0.561402 | 1\n",
       "-0.413266  | 2.04928   | 1\n",
       "-1.28342   | -0.947597 | 1\n",
       "-1.10939   | 1.87936   | 1\n",
       "-1.35303   | 0.489051  | 1\n",
       "... (148 rows omitted)"
      ]
     },
     "execution_count": 15,
     "metadata": {},
     "output_type": "execute_result"
    }
   ],
   "source": [
    "def standard_units(any_numbers):\n",
    "    \"Convert any array of numbers to standard units.\"\n",
    "    return (any_numbers - np.mean(any_numbers))/np.std(any_numbers) \n",
    "\n",
    "ckd = Table().with_columns(\n",
    "    'Hemoglobin', standard_units(ckd.column('Hemoglobin')),\n",
    "    'Glucose', standard_units(ckd.column('Glucose')),\n",
    "    'Class', ckd.column('Class')\n",
    ")\n",
    "ckd"
   ]
  },
  {
   "cell_type": "markdown",
   "metadata": {},
   "source": [
    "The dataset above is called a **training set**, which is a set of examples with known classes (in our case, “has CKD” is Class 1, “doesn’t have CKD” is Class 0) that we can learn from. For example, by seeing the Hemoglobin and Glucose of patients with CKD and comparing those numbers to those of patients without CKD, we can get a sense of how these medical markers indicate the presence or absence of CKD.\n",
    "\n",
    "We’ll draw a scatter plot to visualize the relation between the two variables, Hemoglobin and Glucose. Blue dots are patients with CKD; gold dots are patients without CKD. What kind of medical test results seem to indicate CKD?"
   ]
  },
  {
   "cell_type": "code",
   "execution_count": 16,
   "metadata": {},
   "outputs": [
    {
     "data": {
      "image/png": "[encoded data removed]",
      "text/plain": [
       "<Figure size 360x360 with 1 Axes>"
      ]
     },
     "metadata": {},
     "output_type": "display_data"
    }
   ],
   "source": [
    "color_table = Table().with_columns(\n",
    "    'Class', make_array(1, 0),\n",
    "    'Color', make_array('CKD', 'No CKD')\n",
    ")\n",
    "ckd = ckd.join('Class', color_table)\n",
    "\n",
    "ckd.scatter('Hemoglobin', 'Glucose', colors='Color')"
   ]
  },
  {
   "cell_type": "markdown",
   "metadata": {},
   "source": [
    "Suppose Alice is a new patient who is not in the data set. If I tell you Alice’s hemoglobin level and blood glucose level, could you predict whether she has CKD? Probably, you could. You would plot Alice's location on the axes above. If she fell in the lower-right region, you would predict that she did not have CKD, and otherwise you would predict that she did have CKD. \n",
    "\n",
    "The k-Nearest Neighbors algorithm is based on the intuitive idea that Alice should be put into the same category (CKD or no CKD) as people whose Hemoglobin and Glucose are similar to hers. To classify Alice as CKD or not, we find the patient in the training set who is “nearest” to Alice, and then use that patient’s diagnosis as our prediction for Alice. The intuition is that if two points are near each other in the scatterplot, then the corresponding measurements are pretty similar, so we might expect them to receive the same diagnosis (more likely than not). \n",
    "\n",
    "If Alice is the red dot in the picture below, then she would be classified as having CKD because she is nearest to a blue dot, which represents someone with CKD."
   ]
  },
  {
   "cell_type": "markdown",
   "metadata": {},
   "source": [
    "<img src=\"alice.png\" />"
   ]
  },
  {
   "cell_type": "markdown",
   "metadata": {},
   "source": [
    "Thus our nearest neighbor classifier works like this:\n",
    "\n",
    "Find the point in the training set that is nearest to the new point.\n",
    "If that nearest point is a “CKD” point, classify the new point as “CKD”. If the nearest point is a “not CKD” point, classify the new point as “not CKD”."
   ]
  },
  {
   "cell_type": "markdown",
   "metadata": {},
   "source": [
    "The idea of using Alice's nearest neighbor in the dataset to predict her class can be extended to more than one neighbor. Rather than finding the single person who is nearest to Alice, we can find the `k` people in the dataset who are closest to Alice. If we choose `k` to be an odd number, then one of the two classes will be a majority among Alice's `k` neighbors. So we can classify Alice as whichever is more popular among her `k` nearest neighbors: CKD or not CKD."
   ]
  },
  {
   "cell_type": "markdown",
   "metadata": {},
   "source": [
    "## 2.2 Preparing to Classify a Burrito - Understand the Data, Write Functions"
   ]
  },
  {
   "cell_type": "markdown",
   "metadata": {},
   "source": [
    "Now, let's try using classification in our burrito example. You'll plot the burritos as data points on a scatterplot, and then given a new burrito, you'll use KNN to decide whether you recommend it or not.\n",
    "\n",
    "With KNN, we classify a burrito by finding the `k` reviews in the dataset that are most similar according to the features we choose. We call those reviews with similar features the \"neighbors\".  The KNN algorithm assigns the recommendation to the most common recommendation among its `k` neighbors.\n",
    "\n",
    "Instead of working with all ten features of a burrito, let's limit ourselves to just 2 features for now. The features we will use are the ratings for `Tortilla` and `Meat`. "
   ]
  },
  {
   "cell_type": "markdown",
   "metadata": {},
   "source": [
    "**Question 2.1** Create a new table called `burritos` that only has the columns  \"Tortilla\", \"Meat\", and \"Recommended\". Make sure to start with `cleaned_table` so you don't have any `nan` values."
   ]
  },
  {
   "cell_type": "code",
   "execution_count": 17,
   "metadata": {},
   "outputs": [
    {
     "data": {
      "text/html": [
       "<table border=\"1\" class=\"dataframe\">\n",
       "    <thead>\n",
       "        <tr>\n",
       "            <th>Location</th> <th>Burrito</th> <th>Date</th> <th>Neighborhood</th> <th>Address</th> <th>URL</th> <th>Yelp</th> <th>Google</th> <th>Chips</th> <th>Cost</th> <th>Hunger</th> <th>Mass (g)</th> <th>Density (g/mL)</th> <th>Length</th> <th>Circum</th> <th>Volume</th> <th>Tortilla</th> <th>Temp</th> <th>Meat</th> <th>Fillings</th> <th>Meat:filling</th> <th>Uniformity</th> <th>Salsa</th> <th>Synergy</th> <th>Wrap</th> <th>overall</th> <th>Reviewer</th> <th>Notes</th> <th>Unreliable</th> <th>NonSD</th> <th>Beef</th> <th>Pico</th> <th>Guac</th> <th>Cheese</th> <th>Fries</th> <th>Sour cream</th> <th>Pork</th> <th>Chicken</th> <th>Shrimp</th> <th>Fish</th> <th>Rice</th> <th>Beans</th> <th>Lettuce</th> <th>Tomato</th> <th>Bell peper</th> <th>Carrots</th> <th>Cabbage</th> <th>Sauce</th> <th>Salsa.1</th> <th>Cilantro</th> <th>Onion</th> <th>Taquito</th> <th>Pineapple</th> <th>Ham</th> <th>Chile relleno</th> <th>Nopales</th> <th>Lobster</th> <th>Queso</th> <th>Egg</th> <th>Mushroom</th> <th>Bacon</th> <th>Sushi</th> <th>Avocado</th> <th>Corn</th> <th>Zucchini</th> <th>Recommended</th>\n",
       "        </tr>\n",
       "    </thead>\n",
       "    <tbody>\n",
       "        <tr>\n",
       "            <td>Rudy's Taco Shop    </td> <td>Chicken                   </td> <td>4/9/2016 </td> <td>Solana Beach</td> <td>524 Stevens Ave     </td> <td>http://www.rudystacoshop.com/                         </td> <td>4   </td> <td>4.3   </td> <td>nan  </td> <td>6.6 </td> <td>3.5   </td> <td>nan     </td> <td>nan           </td> <td>nan   </td> <td>nan   </td> <td>nan   </td> <td>3.5     </td> <td>3   </td> <td>4   </td> <td>4.5     </td> <td>3           </td> <td>1         </td> <td>3    </td> <td>4      </td> <td>0.5 </td> <td>2.8    </td> <td>Scott   </td> <td>Salsa Fresca is good, way too small                      </td> <td>nan       </td> <td>nan  </td> <td>nan </td> <td>X   </td> <td>X   </td> <td>nan   </td> <td>nan  </td> <td>nan       </td> <td>nan </td> <td>X      </td> <td>nan   </td> <td>nan </td> <td>nan </td> <td>nan  </td> <td>nan    </td> <td>nan   </td> <td>nan       </td> <td>nan    </td> <td>nan    </td> <td>nan  </td> <td>nan    </td> <td>nan     </td> <td>nan  </td> <td>nan    </td> <td>nan      </td> <td>nan </td> <td>nan          </td> <td>nan    </td> <td>nan    </td> <td>nan  </td> <td>nan </td> <td>nan     </td> <td>nan  </td> <td>nan  </td> <td>nan    </td> <td>nan </td> <td>nan     </td> <td>No         </td>\n",
       "        </tr>\n",
       "        <tr>\n",
       "            <td>Rudy's Taco Shop    </td> <td>Carnitas                  </td> <td>4/9/2016 </td> <td>nan         </td> <td>nan                 </td> <td>nan                                                   </td> <td>nan </td> <td>nan   </td> <td>nan  </td> <td>6.6 </td> <td>3     </td> <td>nan     </td> <td>nan           </td> <td>nan   </td> <td>nan   </td> <td>nan   </td> <td>3       </td> <td>2.5 </td> <td>3   </td> <td>4       </td> <td>2           </td> <td>1         </td> <td>3    </td> <td>3      </td> <td>5   </td> <td>3      </td> <td>Emily   </td> <td>nan                                                      </td> <td>nan       </td> <td>nan  </td> <td>nan </td> <td>X   </td> <td>X   </td> <td>nan   </td> <td>nan  </td> <td>nan       </td> <td>X   </td> <td>nan    </td> <td>nan   </td> <td>nan </td> <td>nan </td> <td>nan  </td> <td>nan    </td> <td>nan   </td> <td>nan       </td> <td>nan    </td> <td>nan    </td> <td>nan  </td> <td>nan    </td> <td>nan     </td> <td>nan  </td> <td>nan    </td> <td>nan      </td> <td>nan </td> <td>nan          </td> <td>nan    </td> <td>nan    </td> <td>nan  </td> <td>nan </td> <td>nan     </td> <td>nan  </td> <td>nan  </td> <td>nan    </td> <td>nan </td> <td>nan     </td> <td>No         </td>\n",
       "        </tr>\n",
       "        <tr>\n",
       "            <td>Taco Stand          </td> <td>Carne asada               </td> <td>4/14/2016</td> <td>nan         </td> <td>nan                 </td> <td>nan                                                   </td> <td>nan </td> <td>nan   </td> <td>nan  </td> <td>7.89</td> <td>3.5   </td> <td>nan     </td> <td>nan           </td> <td>nan   </td> <td>nan   </td> <td>nan   </td> <td>3       </td> <td>2   </td> <td>4.5 </td> <td>4       </td> <td>4           </td> <td>1.5       </td> <td>4.5  </td> <td>4.5    </td> <td>4.5 </td> <td>4.4    </td> <td>Scott   </td> <td>Too small                                                </td> <td>nan       </td> <td>nan  </td> <td>X   </td> <td>X   </td> <td>X   </td> <td>nan   </td> <td>nan  </td> <td>nan       </td> <td>nan </td> <td>nan    </td> <td>nan   </td> <td>nan </td> <td>nan </td> <td>nan  </td> <td>nan    </td> <td>nan   </td> <td>nan       </td> <td>nan    </td> <td>nan    </td> <td>nan  </td> <td>nan    </td> <td>nan     </td> <td>nan  </td> <td>nan    </td> <td>nan      </td> <td>nan </td> <td>nan          </td> <td>nan    </td> <td>nan    </td> <td>nan  </td> <td>nan </td> <td>nan     </td> <td>nan  </td> <td>nan  </td> <td>nan    </td> <td>nan </td> <td>nan     </td> <td>Yes        </td>\n",
       "        </tr>\n",
       "        <tr>\n",
       "            <td>Taco Stand          </td> <td>Carne asada               </td> <td>4/14/2016</td> <td>nan         </td> <td>nan                 </td> <td>nan                                                   </td> <td>nan </td> <td>nan   </td> <td>nan  </td> <td>7.89</td> <td>2     </td> <td>nan     </td> <td>nan           </td> <td>nan   </td> <td>nan   </td> <td>nan   </td> <td>3       </td> <td>2.5 </td> <td>4.5 </td> <td>3.5     </td> <td>4.5         </td> <td>3         </td> <td>4    </td> <td>3.5    </td> <td>5   </td> <td>3.5    </td> <td>Richard </td> <td>A little small. No rice and beans or cheese or sour cream</td> <td>nan       </td> <td>nan  </td> <td>x   </td> <td>x   </td> <td>x   </td> <td>nan   </td> <td>nan  </td> <td>nan       </td> <td>nan </td> <td>nan    </td> <td>nan   </td> <td>nan </td> <td>nan </td> <td>nan  </td> <td>nan    </td> <td>nan   </td> <td>nan       </td> <td>nan    </td> <td>nan    </td> <td>nan  </td> <td>nan    </td> <td>nan     </td> <td>nan  </td> <td>nan    </td> <td>nan      </td> <td>nan </td> <td>nan          </td> <td>nan    </td> <td>nan    </td> <td>nan  </td> <td>nan </td> <td>nan     </td> <td>nan  </td> <td>nan  </td> <td>nan    </td> <td>nan </td> <td>nan     </td> <td>Yes        </td>\n",
       "        </tr>\n",
       "        <tr>\n",
       "            <td>California Burritos </td> <td>California Everything     </td> <td>4/15/2016</td> <td>Linda Vista </td> <td>7754 Starling Dr    </td> <td>https://www.yelp.com/biz/california-burritos-san-diego</td> <td>4.5 </td> <td>4.4   </td> <td>x    </td> <td>6.25</td> <td>4     </td> <td>nan     </td> <td>nan           </td> <td>nan   </td> <td>nan   </td> <td>nan   </td> <td>4.5     </td> <td>4.5 </td> <td>2.5 </td> <td>3.5     </td> <td>3.5         </td> <td>3.5       </td> <td>3    </td> <td>4      </td> <td>5   </td> <td>4.1    </td> <td>Scott   </td> <td>nan                                                      </td> <td>nan       </td> <td>nan  </td> <td>x   </td> <td>x   </td> <td>x   </td> <td>x     </td> <td>x    </td> <td>x         </td> <td>nan </td> <td>nan    </td> <td>nan   </td> <td>nan </td> <td>nan </td> <td>nan  </td> <td>nan    </td> <td>nan   </td> <td>nan       </td> <td>nan    </td> <td>nan    </td> <td>nan  </td> <td>nan    </td> <td>nan     </td> <td>nan  </td> <td>nan    </td> <td>nan      </td> <td>nan </td> <td>nan          </td> <td>nan    </td> <td>nan    </td> <td>nan  </td> <td>nan </td> <td>nan     </td> <td>nan  </td> <td>nan  </td> <td>nan    </td> <td>nan </td> <td>nan     </td> <td>Yes        </td>\n",
       "        </tr>\n",
       "        <tr>\n",
       "            <td>California Burritos </td> <td>California Everything     </td> <td>4/15/2016</td> <td>nan         </td> <td>nan                 </td> <td>nan                                                   </td> <td>nan </td> <td>nan   </td> <td>nan  </td> <td>6.25</td> <td>3.5   </td> <td>nan     </td> <td>nan           </td> <td>nan   </td> <td>nan   </td> <td>nan   </td> <td>4       </td> <td>4   </td> <td>4   </td> <td>2.5     </td> <td>3           </td> <td>3.5       </td> <td>4    </td> <td>4      </td> <td>5   </td> <td>4      </td> <td>Brent   </td> <td>Brent doesn't like fries in his burrito                  </td> <td>nan       </td> <td>nan  </td> <td>x   </td> <td>x   </td> <td>x   </td> <td>x     </td> <td>x    </td> <td>x         </td> <td>nan </td> <td>nan    </td> <td>nan   </td> <td>nan </td> <td>nan </td> <td>nan  </td> <td>nan    </td> <td>nan   </td> <td>nan       </td> <td>nan    </td> <td>nan    </td> <td>nan  </td> <td>nan    </td> <td>nan     </td> <td>nan  </td> <td>nan    </td> <td>nan      </td> <td>nan </td> <td>nan          </td> <td>nan    </td> <td>nan    </td> <td>nan  </td> <td>nan </td> <td>nan     </td> <td>nan  </td> <td>nan  </td> <td>nan    </td> <td>nan </td> <td>nan     </td> <td>No         </td>\n",
       "        </tr>\n",
       "        <tr>\n",
       "            <td>California Burritos </td> <td>California Everything     </td> <td>4/15/2016</td> <td>nan         </td> <td>nan                 </td> <td>nan                                                   </td> <td>nan </td> <td>nan   </td> <td>nan  </td> <td>6.25</td> <td>4     </td> <td>nan     </td> <td>nan           </td> <td>nan   </td> <td>nan   </td> <td>nan   </td> <td>4       </td> <td>4.5 </td> <td>4.5 </td> <td>5       </td> <td>5           </td> <td>5         </td> <td>4.5  </td> <td>5      </td> <td>5   </td> <td>4.6    </td> <td>Luis    </td> <td>nan                                                      </td> <td>nan       </td> <td>nan  </td> <td>x   </td> <td>x   </td> <td>x   </td> <td>x     </td> <td>x    </td> <td>x         </td> <td>nan </td> <td>nan    </td> <td>nan   </td> <td>nan </td> <td>nan </td> <td>nan  </td> <td>nan    </td> <td>nan   </td> <td>nan       </td> <td>nan    </td> <td>nan    </td> <td>nan  </td> <td>nan    </td> <td>nan     </td> <td>nan  </td> <td>nan    </td> <td>nan      </td> <td>nan </td> <td>nan          </td> <td>nan    </td> <td>nan    </td> <td>nan  </td> <td>nan </td> <td>nan     </td> <td>nan  </td> <td>nan  </td> <td>nan    </td> <td>nan </td> <td>nan     </td> <td>Yes        </td>\n",
       "        </tr>\n",
       "        <tr>\n",
       "            <td>California Burritos </td> <td>Chile relleno and carnitas</td> <td>4/15/2016</td> <td>nan         </td> <td>nan                 </td> <td>nan                                                   </td> <td>nan </td> <td>nan   </td> <td>nan  </td> <td>6.5 </td> <td>5     </td> <td>nan     </td> <td>nan           </td> <td>nan   </td> <td>nan   </td> <td>nan   </td> <td>4.5     </td> <td>5   </td> <td>5   </td> <td>5       </td> <td>5           </td> <td>4         </td> <td>4    </td> <td>5      </td> <td>5   </td> <td>4.7    </td> <td>Karl    </td> <td>nan                                                      </td> <td>x         </td> <td>nan  </td> <td>nan </td> <td>x   </td> <td>nan </td> <td>x     </td> <td>nan  </td> <td>x         </td> <td>x   </td> <td>nan    </td> <td>nan   </td> <td>nan </td> <td>x   </td> <td>nan  </td> <td>nan    </td> <td>nan   </td> <td>nan       </td> <td>nan    </td> <td>nan    </td> <td>nan  </td> <td>nan    </td> <td>nan     </td> <td>nan  </td> <td>nan    </td> <td>nan      </td> <td>nan </td> <td>x            </td> <td>nan    </td> <td>nan    </td> <td>nan  </td> <td>nan </td> <td>nan     </td> <td>nan  </td> <td>nan  </td> <td>nan    </td> <td>nan </td> <td>nan     </td> <td>Yes        </td>\n",
       "        </tr>\n",
       "        <tr>\n",
       "            <td>California Burritos </td> <td>California (only cheese)  </td> <td>4/15/2016</td> <td>nan         </td> <td>nan                 </td> <td>nan                                                   </td> <td>nan </td> <td>nan   </td> <td>nan  </td> <td>6.25</td> <td>2     </td> <td>nan     </td> <td>nan           </td> <td>nan   </td> <td>nan   </td> <td>nan   </td> <td>5       </td> <td>5   </td> <td>5   </td> <td>4       </td> <td>4           </td> <td>2         </td> <td>nan  </td> <td>5      </td> <td>5   </td> <td>5      </td> <td>Kalen   </td> <td>nan                                                      </td> <td>x         </td> <td>nan  </td> <td>x   </td> <td>nan </td> <td>nan </td> <td>x     </td> <td>x    </td> <td>nan       </td> <td>nan </td> <td>nan    </td> <td>nan   </td> <td>nan </td> <td>nan </td> <td>nan  </td> <td>nan    </td> <td>nan   </td> <td>nan       </td> <td>nan    </td> <td>nan    </td> <td>nan  </td> <td>nan    </td> <td>nan     </td> <td>nan  </td> <td>nan    </td> <td>nan      </td> <td>nan </td> <td>nan          </td> <td>nan    </td> <td>nan    </td> <td>nan  </td> <td>nan </td> <td>nan     </td> <td>nan  </td> <td>nan  </td> <td>nan    </td> <td>nan </td> <td>nan     </td> <td>Yes        </td>\n",
       "        </tr>\n",
       "        <tr>\n",
       "            <td>Jorge's Mexicatessen</td> <td>California                </td> <td>4/24/2016</td> <td>Encinitas   </td> <td>267 N El Camino Real</td> <td>https://www.yelp.com/biz/jorges-mexicatessen-encinitas</td> <td>4   </td> <td>4.5   </td> <td>nan  </td> <td>5.95</td> <td>3.5   </td> <td>nan     </td> <td>nan           </td> <td>20    </td> <td>22    </td> <td>0.77  </td> <td>2.5     </td> <td>2.5 </td> <td>3.5 </td> <td>4       </td> <td>3           </td> <td>4.5       </td> <td>4    </td> <td>4.5    </td> <td>4.5 </td> <td>3.8    </td> <td>Scott   </td> <td>Cheese should be melted, potatoes are very good          </td> <td>nan       </td> <td>nan  </td> <td>X   </td> <td>nan </td> <td>nan </td> <td>X     </td> <td>X    </td> <td>X         </td> <td>nan </td> <td>nan    </td> <td>nan   </td> <td>nan </td> <td>nan </td> <td>nan  </td> <td>nan    </td> <td>nan   </td> <td>nan       </td> <td>nan    </td> <td>nan    </td> <td>nan  </td> <td>nan    </td> <td>nan     </td> <td>nan  </td> <td>nan    </td> <td>nan      </td> <td>nan </td> <td>nan          </td> <td>nan    </td> <td>nan    </td> <td>nan  </td> <td>nan </td> <td>nan     </td> <td>nan  </td> <td>nan  </td> <td>nan    </td> <td>nan </td> <td>nan     </td> <td>Yes        </td>\n",
       "        </tr>\n",
       "    </tbody>\n",
       "</table>\n",
       "<p>... (211 rows omitted)</p>"
      ],
      "text/plain": [
       "Location             | Burrito                    | Date      | Neighborhood | Address              | URL                                                    | Yelp | Google | Chips | Cost | Hunger | Mass (g) | Density (g/mL) | Length | Circum | Volume | Tortilla | Temp | Meat | Fillings | Meat:filling | Uniformity | Salsa | Synergy | Wrap | overall | Reviewer | Notes                                                     | Unreliable | NonSD | Beef | Pico | Guac | Cheese | Fries | Sour cream | Pork | Chicken | Shrimp | Fish | Rice | Beans | Lettuce | Tomato | Bell peper | Carrots | Cabbage | Sauce | Salsa.1 | Cilantro | Onion | Taquito | Pineapple | Ham  | Chile relleno | Nopales | Lobster | Queso | Egg  | Mushroom | Bacon | Sushi | Avocado | Corn | Zucchini | Recommended\n",
       "Rudy's Taco Shop     | Chicken                    | 4/9/2016  | Solana Beach | 524 Stevens Ave      | http://www.rudystacoshop.com/                          | 4    | 4.3    | nan   | 6.6  | 3.5    | nan      | nan            | nan    | nan    | nan    | 3.5      | 3    | 4    | 4.5      | 3            | 1          | 3     | 4       | 0.5  | 2.8     | Scott    | Salsa Fresca is good, way too small                       | nan        | nan   | nan  | X    | X    | nan    | nan   | nan        | nan  | X       | nan    | nan  | nan  | nan   | nan     | nan    | nan        | nan     | nan     | nan   | nan     | nan      | nan   | nan     | nan       | nan  | nan           | nan     | nan     | nan   | nan  | nan      | nan   | nan   | nan     | nan  | nan      | No\n",
       "Rudy's Taco Shop     | Carnitas                   | 4/9/2016  | nan          | nan                  | nan                                                    | nan  | nan    | nan   | 6.6  | 3      | nan      | nan            | nan    | nan    | nan    | 3        | 2.5  | 3    | 4        | 2            | 1          | 3     | 3       | 5    | 3       | Emily    | nan                                                       | nan        | nan   | nan  | X    | X    | nan    | nan   | nan        | X    | nan     | nan    | nan  | nan  | nan   | nan     | nan    | nan        | nan     | nan     | nan   | nan     | nan      | nan   | nan     | nan       | nan  | nan           | nan     | nan     | nan   | nan  | nan      | nan   | nan   | nan     | nan  | nan      | No\n",
       "Taco Stand           | Carne asada                | 4/14/2016 | nan          | nan                  | nan                                                    | nan  | nan    | nan   | 7.89 | 3.5    | nan      | nan            | nan    | nan    | nan    | 3        | 2    | 4.5  | 4        | 4            | 1.5        | 4.5   | 4.5     | 4.5  | 4.4     | Scott    | Too small                                                 | nan        | nan   | X    | X    | X    | nan    | nan   | nan        | nan  | nan     | nan    | nan  | nan  | nan   | nan     | nan    | nan        | nan     | nan     | nan   | nan     | nan      | nan   | nan     | nan       | nan  | nan           | nan     | nan     | nan   | nan  | nan      | nan   | nan   | nan     | nan  | nan      | Yes\n",
       "Taco Stand           | Carne asada                | 4/14/2016 | nan          | nan                  | nan                                                    | nan  | nan    | nan   | 7.89 | 2      | nan      | nan            | nan    | nan    | nan    | 3        | 2.5  | 4.5  | 3.5      | 4.5          | 3          | 4     | 3.5     | 5    | 3.5     | Richard  | A little small. No rice and beans or cheese or sour cream | nan        | nan   | x    | x    | x    | nan    | nan   | nan        | nan  | nan     | nan    | nan  | nan  | nan   | nan     | nan    | nan        | nan     | nan     | nan   | nan     | nan      | nan   | nan     | nan       | nan  | nan           | nan     | nan     | nan   | nan  | nan      | nan   | nan   | nan     | nan  | nan      | Yes\n",
       "California Burritos  | California Everything      | 4/15/2016 | Linda Vista  | 7754 Starling Dr     | https://www.yelp.com/biz/california-burritos-san-diego | 4.5  | 4.4    | x     | 6.25 | 4      | nan      | nan            | nan    | nan    | nan    | 4.5      | 4.5  | 2.5  | 3.5      | 3.5          | 3.5        | 3     | 4       | 5    | 4.1     | Scott    | nan                                                       | nan        | nan   | x    | x    | x    | x      | x     | x          | nan  | nan     | nan    | nan  | nan  | nan   | nan     | nan    | nan        | nan     | nan     | nan   | nan     | nan      | nan   | nan     | nan       | nan  | nan           | nan     | nan     | nan   | nan  | nan      | nan   | nan   | nan     | nan  | nan      | Yes\n",
       "California Burritos  | California Everything      | 4/15/2016 | nan          | nan                  | nan                                                    | nan  | nan    | nan   | 6.25 | 3.5    | nan      | nan            | nan    | nan    | nan    | 4        | 4    | 4    | 2.5      | 3            | 3.5        | 4     | 4       | 5    | 4       | Brent    | Brent doesn't like fries in his burrito                   | nan        | nan   | x    | x    | x    | x      | x     | x          | nan  | nan     | nan    | nan  | nan  | nan   | nan     | nan    | nan        | nan     | nan     | nan   | nan     | nan      | nan   | nan     | nan       | nan  | nan           | nan     | nan     | nan   | nan  | nan      | nan   | nan   | nan     | nan  | nan      | No\n",
       "California Burritos  | California Everything      | 4/15/2016 | nan          | nan                  | nan                                                    | nan  | nan    | nan   | 6.25 | 4      | nan      | nan            | nan    | nan    | nan    | 4        | 4.5  | 4.5  | 5        | 5            | 5          | 4.5   | 5       | 5    | 4.6     | Luis     | nan                                                       | nan        | nan   | x    | x    | x    | x      | x     | x          | nan  | nan     | nan    | nan  | nan  | nan   | nan     | nan    | nan        | nan     | nan     | nan   | nan     | nan      | nan   | nan     | nan       | nan  | nan           | nan     | nan     | nan   | nan  | nan      | nan   | nan   | nan     | nan  | nan      | Yes\n",
       "California Burritos  | Chile relleno and carnitas | 4/15/2016 | nan          | nan                  | nan                                                    | nan  | nan    | nan   | 6.5  | 5      | nan      | nan            | nan    | nan    | nan    | 4.5      | 5    | 5    | 5        | 5            | 4          | 4     | 5       | 5    | 4.7     | Karl     | nan                                                       | x          | nan   | nan  | x    | nan  | x      | nan   | x          | x    | nan     | nan    | nan  | x    | nan   | nan     | nan    | nan        | nan     | nan     | nan   | nan     | nan      | nan   | nan     | nan       | nan  | x             | nan     | nan     | nan   | nan  | nan      | nan   | nan   | nan     | nan  | nan      | Yes\n",
       "California Burritos  | California (only cheese)   | 4/15/2016 | nan          | nan                  | nan                                                    | nan  | nan    | nan   | 6.25 | 2      | nan      | nan            | nan    | nan    | nan    | 5        | 5    | 5    | 4        | 4            | 2          | nan   | 5       | 5    | 5       | Kalen    | nan                                                       | x          | nan   | x    | nan  | nan  | x      | x     | nan        | nan  | nan     | nan    | nan  | nan  | nan   | nan     | nan    | nan        | nan     | nan     | nan   | nan     | nan      | nan   | nan     | nan       | nan  | nan           | nan     | nan     | nan   | nan  | nan      | nan   | nan   | nan     | nan  | nan      | Yes\n",
       "Jorge's Mexicatessen | California                 | 4/24/2016 | Encinitas    | 267 N El Camino Real | https://www.yelp.com/biz/jorges-mexicatessen-encinitas | 4    | 4.5    | nan   | 5.95 | 3.5    | nan      | nan            | 20     | 22     | 0.77   | 2.5      | 2.5  | 3.5  | 4        | 3            | 4.5        | 4     | 4.5     | 4.5  | 3.8     | Scott    | Cheese should be melted, potatoes are very good           | nan        | nan   | X    | nan  | nan  | X      | X     | X          | nan  | nan     | nan    | nan  | nan  | nan   | nan     | nan    | nan        | nan     | nan     | nan   | nan     | nan      | nan   | nan     | nan       | nan  | nan           | nan     | nan     | nan   | nan  | nan      | nan   | nan   | nan     | nan  | nan      | Yes\n",
       "... (211 rows omitted)"
      ]
     },
     "execution_count": 17,
     "metadata": {},
     "output_type": "execute_result"
    }
   ],
   "source": [
    "cleaned_table"
   ]
  },
  {
   "cell_type": "code",
   "execution_count": 18,
   "metadata": {
    "scrolled": true
   },
   "outputs": [
    {
     "data": {
      "text/html": [
       "<table border=\"1\" class=\"dataframe\">\n",
       "    <thead>\n",
       "        <tr>\n",
       "            <th>Tortilla</th> <th>Meat</th> <th>Recommended</th>\n",
       "        </tr>\n",
       "    </thead>\n",
       "    <tbody>\n",
       "        <tr>\n",
       "            <td>3.5     </td> <td>4   </td> <td>No         </td>\n",
       "        </tr>\n",
       "        <tr>\n",
       "            <td>3       </td> <td>3   </td> <td>No         </td>\n",
       "        </tr>\n",
       "        <tr>\n",
       "            <td>3       </td> <td>4.5 </td> <td>Yes        </td>\n",
       "        </tr>\n",
       "        <tr>\n",
       "            <td>3       </td> <td>4.5 </td> <td>Yes        </td>\n",
       "        </tr>\n",
       "        <tr>\n",
       "            <td>4.5     </td> <td>2.5 </td> <td>Yes        </td>\n",
       "        </tr>\n",
       "        <tr>\n",
       "            <td>4       </td> <td>4   </td> <td>No         </td>\n",
       "        </tr>\n",
       "        <tr>\n",
       "            <td>4       </td> <td>4.5 </td> <td>Yes        </td>\n",
       "        </tr>\n",
       "        <tr>\n",
       "            <td>4.5     </td> <td>5   </td> <td>Yes        </td>\n",
       "        </tr>\n",
       "        <tr>\n",
       "            <td>5       </td> <td>5   </td> <td>Yes        </td>\n",
       "        </tr>\n",
       "        <tr>\n",
       "            <td>2.5     </td> <td>3.5 </td> <td>Yes        </td>\n",
       "        </tr>\n",
       "    </tbody>\n",
       "</table>\n",
       "<p>... (211 rows omitted)</p>"
      ],
      "text/plain": [
       "Tortilla | Meat | Recommended\n",
       "3.5      | 4    | No\n",
       "3        | 3    | No\n",
       "3        | 4.5  | Yes\n",
       "3        | 4.5  | Yes\n",
       "4.5      | 2.5  | Yes\n",
       "4        | 4    | No\n",
       "4        | 4.5  | Yes\n",
       "4.5      | 5    | Yes\n",
       "5        | 5    | Yes\n",
       "2.5      | 3.5  | Yes\n",
       "... (211 rows omitted)"
      ]
     },
     "execution_count": 18,
     "metadata": {},
     "output_type": "execute_result"
    }
   ],
   "source": [
    "burritos = cleaned_table.select('Tortilla', 'Meat', 'Recommended')\n",
    "burritos"
   ]
  },
  {
   "cell_type": "code",
   "execution_count": 19,
   "metadata": {},
   "outputs": [
    {
     "data": {
      "text/plain": [
       "True"
      ]
     },
     "execution_count": 19,
     "metadata": {},
     "output_type": "execute_result"
    }
   ],
   "source": [
    "burritos.labels == ('Tortilla', 'Meat', 'Recommended')"
   ]
  },
  {
   "cell_type": "code",
   "execution_count": 20,
   "metadata": {},
   "outputs": [
    {
     "name": "stdout",
     "output_type": "stream",
     "text": [
      "~~~~~~~~~~~~~~~~~~~~~~~~~~~~~~~~~~~~~~~~~~~~~~~~~~~~~~~~~~~~~~~~~~~~~\n",
      "Running tests\n",
      "\n",
      "---------------------------------------------------------------------\n",
      "Test summary\n",
      "    Passed: 1\n",
      "    Failed: 0\n",
      "[ooooooooook] 100.0% passed\n",
      "\n"
     ]
    }
   ],
   "source": [
    "_ = ok.grade('q2_1')"
   ]
  },
  {
   "cell_type": "markdown",
   "metadata": {},
   "source": [
    "Run the next cell to display a scatterplot of the data above."
   ]
  },
  {
   "cell_type": "code",
   "execution_count": 21,
   "metadata": {},
   "outputs": [
    {
     "data": {
      "image/png": "[encoded data removed]",
      "text/plain": [
       "<Figure size 360x360 with 1 Axes>"
      ]
     },
     "metadata": {},
     "output_type": "display_data"
    }
   ],
   "source": [
    "burritos.scatter(0,1, colors=\"Recommended\")"
   ]
  },
  {
   "cell_type": "markdown",
   "metadata": {},
   "source": [
    "**Question 2.2**  What do you notice about this plot? Where are most of the YES recommendations located, where are most of the NO recommendations located, and does this match what you would expect?"
   ]
  },
  {
   "cell_type": "markdown",
   "metadata": {},
   "source": [
    "***\n",
    "Most of the YES recommendations are towards the top right, where meat and tortilla values are high. Most of the NO recommendations are towards the bottome left, where meat and torilla values are lower. This matches what I would expect as I would personally recommend burritos with more meat and better tortilla.\n",
    "***"
   ]
  },
  {
   "cell_type": "markdown",
   "metadata": {},
   "source": [
    "**Question 2.3** Intuitively, if a burrito had a meat rating of 2.0 and a tortilla score of 3.3, would you guess that it is recommended, or not recommended? Set the variable `recc` to True if you think it would be recommended and False if you think it wouldn't."
   ]
  },
  {
   "cell_type": "code",
   "execution_count": 22,
   "metadata": {},
   "outputs": [],
   "source": [
    "recc = False"
   ]
  },
  {
   "cell_type": "code",
   "execution_count": 23,
   "metadata": {},
   "outputs": [
    {
     "data": {
      "text/plain": [
       "True"
      ]
     },
     "execution_count": 23,
     "metadata": {},
     "output_type": "execute_result"
    }
   ],
   "source": [
    "recc in [True, False]"
   ]
  },
  {
   "cell_type": "code",
   "execution_count": 24,
   "metadata": {},
   "outputs": [
    {
     "name": "stdout",
     "output_type": "stream",
     "text": [
      "~~~~~~~~~~~~~~~~~~~~~~~~~~~~~~~~~~~~~~~~~~~~~~~~~~~~~~~~~~~~~~~~~~~~~\n",
      "Running tests\n",
      "\n",
      "---------------------------------------------------------------------\n",
      "Test summary\n",
      "    Passed: 1\n",
      "    Failed: 0\n",
      "[ooooooooook] 100.0% passed\n",
      "\n"
     ]
    }
   ],
   "source": [
    "_ = ok.grade('q2_3')"
   ]
  },
  {
   "cell_type": "markdown",
   "metadata": {},
   "source": [
    "Now that we generally know how to do this visually, let's start trying to implement this with code. Recall that the process of KNN is as follows\n",
    "* Given a new point, find the distance between that point and every single other point in the data set.\n",
    "* Determine the nearest `k` points.\n",
    "* Find the majority class of the nearest `k` points. If there is a tie, pick one at random.\n",
    "\n",
    "**Question 2.4**  To help us break down this process, let's make some useful functions, starting with `distance`. The function `distance` should take in two tuples and returns the distance between the two. Recall the distance formula from math:  \n",
    "$$dist((x_1, y_1), (x_2, y_2)) = \\sqrt{(x_1-y_1)^2+(x_2-y_2)^2}$$\n"
   ]
  },
  {
   "cell_type": "markdown",
   "metadata": {},
   "source": [
    "# EQUATION IS WRONG X-X, Y-Y"
   ]
  },
  {
   "cell_type": "code",
   "execution_count": 25,
   "metadata": {},
   "outputs": [],
   "source": [
    "def distance(point1, point2):\n",
    "    x_math = (point1[0]-point2[0])**2\n",
    "    y_math = (point1[1]-point2[1])**2\n",
    "    \n",
    "    return np.sqrt(x_math+y_math)"
   ]
  },
  {
   "cell_type": "code",
   "execution_count": 26,
   "metadata": {},
   "outputs": [
    {
     "data": {
      "text/plain": [
       "5.0"
      ]
     },
     "execution_count": 26,
     "metadata": {},
     "output_type": "execute_result"
    }
   ],
   "source": [
    "distance(make_array(1, 1), make_array(4, 5)) #should return 5.0"
   ]
  },
  {
   "cell_type": "markdown",
   "metadata": {},
   "source": [
    "**Question 2.5** Now that we can calculate the distance between two points, let's write a function that will calculate the distance between a point and every other point in the dataset. Write a function that called `all_distances` that takes as input the name of a `table` and the features of a `new_point`, and returns the table with a new column with each row's distance to the new point.\n",
    "\n",
    "**Hint:** Use the `distance` method that you implemented above."
   ]
  },
  {
   "cell_type": "code",
   "execution_count": 27,
   "metadata": {},
   "outputs": [],
   "source": [
    "burritos.apply?"
   ]
  },
  {
   "cell_type": "code",
   "execution_count": 101,
   "metadata": {
    "scrolled": true
   },
   "outputs": [],
   "source": [
    "def all_distances(table, new_point):\n",
    "    \"\"\"Appends a column of distances\n",
    "    between each point in the training set\n",
    "    and the new point (which is a row of attributes)\"\"\"\n",
    "    # Create a table with only the features\n",
    "    attributes = table.select(0, 1)\n",
    "    # Calculate the distance between new_point and each row of table\n",
    "    new_column = make_array() \n",
    "    for i in range(table.num_rows):\n",
    "        oth_pt = make_array(attributes.column(0)[i], attributes.column(1)[i])\n",
    "        new_column = np.append(new_column, distance(oth_pt, new_point))\n",
    "        \n",
    "    # Append distance column and previously saved recommended column\n",
    "    table = table.with_column('Distance', new_column)\n",
    "    return table"
   ]
  },
  {
   "cell_type": "markdown",
   "metadata": {},
   "source": [
    "Make sure your `all_distances()` function works with this line below. You should see 4 columns in total; `Tortilla`,  `Meat`,  `Recommended`, and `Distance`. "
   ]
  },
  {
   "cell_type": "code",
   "execution_count": 102,
   "metadata": {},
   "outputs": [
    {
     "data": {
      "text/html": [
       "<table border=\"1\" class=\"dataframe\">\n",
       "    <thead>\n",
       "        <tr>\n",
       "            <th>Tortilla</th> <th>Meat</th> <th>Recommended</th> <th>Distance</th>\n",
       "        </tr>\n",
       "    </thead>\n",
       "    <tbody>\n",
       "        <tr>\n",
       "            <td>3.5     </td> <td>4   </td> <td>No         </td> <td>0.5     </td>\n",
       "        </tr>\n",
       "        <tr>\n",
       "            <td>3       </td> <td>3   </td> <td>No         </td> <td>1.41421 </td>\n",
       "        </tr>\n",
       "        <tr>\n",
       "            <td>3       </td> <td>4.5 </td> <td>Yes        </td> <td>1.11803 </td>\n",
       "        </tr>\n",
       "        <tr>\n",
       "            <td>3       </td> <td>4.5 </td> <td>Yes        </td> <td>1.11803 </td>\n",
       "        </tr>\n",
       "        <tr>\n",
       "            <td>4.5     </td> <td>2.5 </td> <td>Yes        </td> <td>1.58114 </td>\n",
       "        </tr>\n",
       "        <tr>\n",
       "            <td>4       </td> <td>4   </td> <td>No         </td> <td>0       </td>\n",
       "        </tr>\n",
       "        <tr>\n",
       "            <td>4       </td> <td>4.5 </td> <td>Yes        </td> <td>0.5     </td>\n",
       "        </tr>\n",
       "        <tr>\n",
       "            <td>4.5     </td> <td>5   </td> <td>Yes        </td> <td>1.11803 </td>\n",
       "        </tr>\n",
       "        <tr>\n",
       "            <td>5       </td> <td>5   </td> <td>Yes        </td> <td>1.41421 </td>\n",
       "        </tr>\n",
       "        <tr>\n",
       "            <td>2.5     </td> <td>3.5 </td> <td>Yes        </td> <td>1.58114 </td>\n",
       "        </tr>\n",
       "    </tbody>\n",
       "</table>\n",
       "<p>... (211 rows omitted)</p>"
      ],
      "text/plain": [
       "Tortilla | Meat | Recommended | Distance\n",
       "3.5      | 4    | No          | 0.5\n",
       "3        | 3    | No          | 1.41421\n",
       "3        | 4.5  | Yes         | 1.11803\n",
       "3        | 4.5  | Yes         | 1.11803\n",
       "4.5      | 2.5  | Yes         | 1.58114\n",
       "4        | 4    | No          | 0\n",
       "4        | 4.5  | Yes         | 0.5\n",
       "4.5      | 5    | Yes         | 1.11803\n",
       "5        | 5    | Yes         | 1.41421\n",
       "2.5      | 3.5  | Yes         | 1.58114\n",
       "... (211 rows omitted)"
      ]
     },
     "execution_count": 102,
     "metadata": {},
     "output_type": "execute_result"
    }
   ],
   "source": [
    "distance_table_test = all_distances(burritos, make_array(4, 4))\n",
    "distance_table_test"
   ]
  },
  {
   "cell_type": "markdown",
   "metadata": {},
   "source": [
    "**Question 2.6** Now let's make a function that selects the nearest k points. Call this function `closest_k`. This function takes in a `table`(of the same form as the output of `all_distances`) and a value of `k` and returns a table containing only the `k` rows corresponding to the shortest distances. If there is a tie for shortest distance among more than `k` rows, you can return a table with any `k` such rows.\n"
   ]
  },
  {
   "cell_type": "code",
   "execution_count": 103,
   "metadata": {},
   "outputs": [],
   "source": [
    "def closest_k(table, k):\n",
    "    \"\"\"Returns a table of the k rows of the augmented table\n",
    "    corresponding to the k smallest distances\"\"\"\n",
    "    return table.sort(\"Distance\", descending=False).take(np.arange(1, k+1))"
   ]
  },
  {
   "cell_type": "markdown",
   "metadata": {},
   "source": [
    "Once again, let's test that our closest function works by calling it on `distance_table_test`. You can play around with different k values to see what your function outputs."
   ]
  },
  {
   "cell_type": "code",
   "execution_count": 104,
   "metadata": {},
   "outputs": [
    {
     "data": {
      "text/html": [
       "<table border=\"1\" class=\"dataframe\">\n",
       "    <thead>\n",
       "        <tr>\n",
       "            <th>Tortilla</th> <th>Meat</th> <th>Recommended</th> <th>Distance</th>\n",
       "        </tr>\n",
       "    </thead>\n",
       "    <tbody>\n",
       "        <tr>\n",
       "            <td>4       </td> <td>4   </td> <td>Yes        </td> <td>0       </td>\n",
       "        </tr>\n",
       "        <tr>\n",
       "            <td>4       </td> <td>4   </td> <td>Yes        </td> <td>0       </td>\n",
       "        </tr>\n",
       "        <tr>\n",
       "            <td>4       </td> <td>4   </td> <td>Yes        </td> <td>0       </td>\n",
       "        </tr>\n",
       "        <tr>\n",
       "            <td>4       </td> <td>4   </td> <td>Yes        </td> <td>0       </td>\n",
       "        </tr>\n",
       "        <tr>\n",
       "            <td>4       </td> <td>4   </td> <td>Yes        </td> <td>0       </td>\n",
       "        </tr>\n",
       "    </tbody>\n",
       "</table>"
      ],
      "text/plain": [
       "<IPython.core.display.HTML object>"
      ]
     },
     "metadata": {},
     "output_type": "display_data"
    }
   ],
   "source": [
    "top_k_test = closest_k(distance_table_test, 5)\n",
    "top_k_test.show()"
   ]
  },
  {
   "cell_type": "markdown",
   "metadata": {},
   "source": [
    "**Question 2.7** We're almost there! Let's write a function called `majority` that, when given a table such as the one above, will return \"Yes\" or \"No\", whichever is more common in the \"Recommended\" column. If there is a tie, return \"Yes\" or \"No\" at random."
   ]
  },
  {
   "cell_type": "code",
   "execution_count": 105,
   "metadata": {},
   "outputs": [],
   "source": [
    "def majority(table):\n",
    "    return table.group(\"Recommended\").sort(\"count\", descending=True).column(0)[0]"
   ]
  },
  {
   "cell_type": "code",
   "execution_count": 106,
   "metadata": {},
   "outputs": [
    {
     "data": {
      "text/plain": [
       "'Yes'"
      ]
     },
     "execution_count": 106,
     "metadata": {},
     "output_type": "execute_result"
    }
   ],
   "source": [
    "majority(top_k_test)"
   ]
  },
  {
   "cell_type": "code",
   "execution_count": 40,
   "metadata": {},
   "outputs": [
    {
     "data": {
      "text/html": [
       "<table border=\"1\" class=\"dataframe\">\n",
       "    <thead>\n",
       "        <tr>\n",
       "            <th>Recommended</th>\n",
       "        </tr>\n",
       "    </thead>\n",
       "    <tbody>\n",
       "        <tr>\n",
       "            <td>Yes        </td>\n",
       "        </tr>\n",
       "        <tr>\n",
       "            <td>Yes        </td>\n",
       "        </tr>\n",
       "        <tr>\n",
       "            <td>Yes        </td>\n",
       "        </tr>\n",
       "        <tr>\n",
       "            <td>No         </td>\n",
       "        </tr>\n",
       "        <tr>\n",
       "            <td>No         </td>\n",
       "        </tr>\n",
       "        <tr>\n",
       "            <td>No         </td>\n",
       "        </tr>\n",
       "        <tr>\n",
       "            <td>No         </td>\n",
       "        </tr>\n",
       "    </tbody>\n",
       "</table>"
      ],
      "text/plain": [
       "Recommended\n",
       "Yes\n",
       "Yes\n",
       "Yes\n",
       "No\n",
       "No\n",
       "No\n",
       "No"
      ]
     },
     "execution_count": 40,
     "metadata": {},
     "output_type": "execute_result"
    }
   ],
   "source": [
    "test = Table().with_column('Recommended',['Yes','Yes','Yes','No','No','No','No'])\n",
    "test"
   ]
  },
  {
   "cell_type": "code",
   "execution_count": 41,
   "metadata": {},
   "outputs": [
    {
     "data": {
      "text/plain": [
       "'No'"
      ]
     },
     "execution_count": 41,
     "metadata": {},
     "output_type": "execute_result"
    }
   ],
   "source": [
    "majority(test)"
   ]
  },
  {
   "cell_type": "code",
   "execution_count": 42,
   "metadata": {},
   "outputs": [
    {
     "name": "stdout",
     "output_type": "stream",
     "text": [
      "~~~~~~~~~~~~~~~~~~~~~~~~~~~~~~~~~~~~~~~~~~~~~~~~~~~~~~~~~~~~~~~~~~~~~\n",
      "Running tests\n",
      "\n",
      "---------------------------------------------------------------------\n",
      "Test summary\n",
      "    Passed: 1\n",
      "    Failed: 0\n",
      "[ooooooooook] 100.0% passed\n",
      "\n"
     ]
    }
   ],
   "source": [
    "_ = ok.grade('q2_7')"
   ]
  },
  {
   "cell_type": "markdown",
   "metadata": {},
   "source": [
    "**Question 2.8** Let's put all these functions together to create our final function, `classify`. Classify should take in a `table` of training data, the coordinates of a `new_point` (to be classified), and a value of `k` and return \"Yes\" or \"No\", our prediction for the class of the new point."
   ]
  },
  {
   "cell_type": "code",
   "execution_count": null,
   "metadata": {},
   "outputs": [],
   "source": [
    "all_distances, closest_k, majority"
   ]
  },
  {
   "cell_type": "code",
   "execution_count": 43,
   "metadata": {},
   "outputs": [],
   "source": [
    "def classify(table, new_point, k):\n",
    "    new_table = all_distances(table, new_point)\n",
    "    return majority(closest_k(new_table,k))"
   ]
  },
  {
   "cell_type": "markdown",
   "metadata": {},
   "source": [
    "Before we celebrate, let's make sure it works.  Here are some values you can check"
   ]
  },
  {
   "cell_type": "code",
   "execution_count": 44,
   "metadata": {},
   "outputs": [
    {
     "data": {
      "text/plain": [
       "'Yes'"
      ]
     },
     "execution_count": 44,
     "metadata": {},
     "output_type": "execute_result"
    }
   ],
   "source": [
    "classify(burritos, make_array(4, 4), 5) #output should be 'Yes'"
   ]
  },
  {
   "cell_type": "code",
   "execution_count": 45,
   "metadata": {
    "scrolled": true
   },
   "outputs": [
    {
     "data": {
      "text/plain": [
       "'No'"
      ]
     },
     "execution_count": 45,
     "metadata": {},
     "output_type": "execute_result"
    }
   ],
   "source": [
    "classify(burritos, make_array(0,0), 3) #output should be 'No'"
   ]
  },
  {
   "cell_type": "code",
   "execution_count": 46,
   "metadata": {},
   "outputs": [
    {
     "data": {
      "text/plain": [
       "'Yes'"
      ]
     },
     "execution_count": 46,
     "metadata": {},
     "output_type": "execute_result"
    }
   ],
   "source": [
    "classify(burritos, make_array(5, 5), 3) #output should be 'Yes'"
   ]
  },
  {
   "cell_type": "markdown",
   "metadata": {},
   "source": [
    "# 3. Analyzing Burrito Features - What's Most Important for a Burrito? \n"
   ]
  },
  {
   "cell_type": "markdown",
   "metadata": {},
   "source": [
    "Up until now, we have been classifying burritos based on two features, \"Tortilla\" and \"Meat.\" But are these features actually important in determining overall rating? Remember, our data set included lots of different features of a burrito."
   ]
  },
  {
   "cell_type": "code",
   "execution_count": 47,
   "metadata": {},
   "outputs": [
    {
     "data": {
      "text/plain": [
       "('Location',\n",
       " 'Burrito',\n",
       " 'Date',\n",
       " 'Neighborhood',\n",
       " 'Address',\n",
       " 'URL',\n",
       " 'Yelp',\n",
       " 'Google',\n",
       " 'Chips',\n",
       " 'Cost',\n",
       " 'Hunger',\n",
       " 'Mass (g)',\n",
       " 'Density (g/mL)',\n",
       " 'Length',\n",
       " 'Circum',\n",
       " 'Volume',\n",
       " 'Tortilla',\n",
       " 'Temp',\n",
       " 'Meat',\n",
       " 'Fillings',\n",
       " 'Meat:filling',\n",
       " 'Uniformity',\n",
       " 'Salsa',\n",
       " 'Synergy',\n",
       " 'Wrap',\n",
       " 'overall',\n",
       " 'Reviewer',\n",
       " 'Notes',\n",
       " 'Unreliable',\n",
       " 'NonSD',\n",
       " 'Beef',\n",
       " 'Pico',\n",
       " 'Guac',\n",
       " 'Cheese',\n",
       " 'Fries',\n",
       " 'Sour cream',\n",
       " 'Pork',\n",
       " 'Chicken',\n",
       " 'Shrimp',\n",
       " 'Fish',\n",
       " 'Rice',\n",
       " 'Beans',\n",
       " 'Lettuce',\n",
       " 'Tomato',\n",
       " 'Bell peper',\n",
       " 'Carrots',\n",
       " 'Cabbage',\n",
       " 'Sauce',\n",
       " 'Salsa.1',\n",
       " 'Cilantro',\n",
       " 'Onion',\n",
       " 'Taquito',\n",
       " 'Pineapple',\n",
       " 'Ham',\n",
       " 'Chile relleno',\n",
       " 'Nopales',\n",
       " 'Lobster',\n",
       " 'Queso',\n",
       " 'Egg',\n",
       " 'Mushroom',\n",
       " 'Bacon',\n",
       " 'Sushi',\n",
       " 'Avocado',\n",
       " 'Corn',\n",
       " 'Zucchini',\n",
       " 'Recommended')"
      ]
     },
     "execution_count": 47,
     "metadata": {},
     "output_type": "execute_result"
    }
   ],
   "source": [
    "burritos_dataset.labels"
   ]
  },
  {
   "cell_type": "markdown",
   "metadata": {},
   "source": [
    "That's a lot of features. In thise section, we'll find out which burrito features are the most important in determining the overall rating. \n",
    "\n",
    "To do this, we are going to note the `overall` rating of the burrito, which is rated on a scale from 0 to 5. We can then plot this `overall` rating against a certain feature and draw a regression line. A steeper regression line implies that the feature has more of an effect on the `overall` rating. Let's take a step back and intuitively check if that is true."
   ]
  },
  {
   "cell_type": "markdown",
   "metadata": {},
   "source": [
    "Intuitively, you might guess that the quality of the meat is a more important factor than the temperature of a burrito in determining the overall quality of a burrito. Let's see if this is true."
   ]
  },
  {
   "cell_type": "markdown",
   "metadata": {},
   "source": [
    "Run the next cell to plot the regression line for Meat Rating VS Overall Rating"
   ]
  },
  {
   "cell_type": "code",
   "execution_count": 48,
   "metadata": {},
   "outputs": [
    {
     "data": {
      "image/png": "[encoded data removed]",
      "text/plain": [
       "<Figure size 360x360 with 1 Axes>"
      ]
     },
     "metadata": {},
     "output_type": "display_data"
    }
   ],
   "source": [
    "cleaned_table = burritos_dataset.where(\"Meat\", are.above(-1)).where('overall', are.above(-1))\n",
    "cleaned_table.scatter(\"Meat\", \"overall\", fit_line=True)"
   ]
  },
  {
   "cell_type": "markdown",
   "metadata": {},
   "source": [
    "Run the next cell to plot the regression line for Temperature Ratings VS Overall Rating"
   ]
  },
  {
   "cell_type": "code",
   "execution_count": 49,
   "metadata": {},
   "outputs": [
    {
     "data": {
      "image/png": "[encoded data removed]",
      "text/plain": [
       "<Figure size 360x360 with 1 Axes>"
      ]
     },
     "metadata": {},
     "output_type": "display_data"
    }
   ],
   "source": [
    "cleaned_table = burritos_dataset.where(\"Temp\", are.above(-1)).where('overall', are.above(-1))\n",
    "cleaned_table.scatter(\"Temp\", \"overall\", fit_line=True)"
   ]
  },
  {
   "cell_type": "markdown",
   "metadata": {},
   "source": [
    "The slope of the regression line for the Temperature Ratings VS Overall Rating graph is less steep. \n",
    "\n",
    "Mathematically, what does this mean? \n",
    "\n",
    "In the first chart, a meat rating of 1 corresponds to an average overall rating of around `2.0` but a meat rating of 5 has an average overall rating of around `4.5`. This is a `2.5` point difference! \n",
    "\n",
    "Now compare this to the second chart. If the temperature of the burrito is (horrifically) low, say a 1, the average overall rating is around `3.0` and when the temperature is a solid 5 out of 5, the average overall rating is about `4.0`. This is only a `1` point difference!\n",
    "\n",
    "The slope of a line represents how much the variable on the vertical axis (overall rating, in this case) changes with a unit change in the horizontal axis. The first chart shows that when a reviewer increases their meat rating by one point, the overall rating goes up by about `0.6`, whereas the second chart shows that when a reviewer increases their temperature rating by one point, the overall rating goes up by only about `0.25`. That is, meat is a more important factor in determining the overall rating of a burrito than temperature."
   ]
  },
  {
   "cell_type": "markdown",
   "metadata": {},
   "source": [
    "**Question 3.1** Comparing two regression lines visually can be difficult to do, so let's create a `slope` function to help objectively determine which features have a higher impact on the `overall` rating."
   ]
  },
  {
   "cell_type": "code",
   "execution_count": 75,
   "metadata": {},
   "outputs": [],
   "source": [
    "def standard_units(a):\n",
    "    \"Convert any array of numbers to standard units.\"\n",
    "    mean = np.mean(a)\n",
    "    std = np.std(a)\n",
    "    return (a-mean)/std\n",
    "\n",
    "def correlation(t, label_x, label_y):\n",
    "    x_stan = standard_units(t.column(label_x))\n",
    "    y_stan = standard_units(t.column(label_y))\n",
    "\n",
    "    return np.mean(x_stan*y_stan)\n",
    "\n",
    "def slope(t, label_x, label_y):\n",
    "    r = correlation(t, label_x, label_y)\n",
    "    return r*np.std(t.column(label_y))/np.std(t.column(label_x))"
   ]
  },
  {
   "cell_type": "code",
   "execution_count": 76,
   "metadata": {},
   "outputs": [
    {
     "data": {
      "text/plain": [
       "0.24598569511297641"
      ]
     },
     "execution_count": 76,
     "metadata": {},
     "output_type": "execute_result"
    }
   ],
   "source": [
    "# Output should be around 0.245\n",
    "slope(cleaned_table, 'Temp', 'overall')"
   ]
  },
  {
   "cell_type": "code",
   "execution_count": 60,
   "metadata": {},
   "outputs": [
    {
     "name": "stdout",
     "output_type": "stream",
     "text": [
      "~~~~~~~~~~~~~~~~~~~~~~~~~~~~~~~~~~~~~~~~~~~~~~~~~~~~~~~~~~~~~~~~~~~~~\n",
      "Running tests\n",
      "\n",
      "---------------------------------------------------------------------\n",
      "Test summary\n",
      "    Passed: 1\n",
      "    Failed: 0\n",
      "[ooooooooook] 100.0% passed\n",
      "\n"
     ]
    }
   ],
   "source": [
    "_ = ok.grade('q3_1')"
   ]
  },
  {
   "cell_type": "markdown",
   "metadata": {},
   "source": [
    "**Question 3.2** Of these 10 features, let's figure out which one impacts the `Overall Rating` the most! Create a table called `feature_analysis` that has a column called `Feature` containing the ten features listed below, and a column called `Slope` which is the slope of the regression line when the feature is plotted against overall rating. Make sure to clean the data to remove `nan` values in the given feature and in the overall rating before finding the slope of the regression line. Sort the `feature_analysis` table so that the first item corresponds to the most influential feature, and the last column corresponds to the least influential feature."
   ]
  },
  {
   "cell_type": "code",
   "execution_count": 61,
   "metadata": {},
   "outputs": [],
   "source": [
    "features = ['Volume',\n",
    " 'Tortilla',\n",
    " 'Temp',\n",
    " 'Meat',\n",
    " 'Fillings',\n",
    " 'Meat:filling',\n",
    " 'Uniformity',\n",
    " 'Salsa',\n",
    " 'Synergy',\n",
    " 'Wrap']"
   ]
  },
  {
   "cell_type": "code",
   "execution_count": 62,
   "metadata": {},
   "outputs": [
    {
     "data": {
      "text/html": [
       "<table border=\"1\" class=\"dataframe\">\n",
       "    <thead>\n",
       "        <tr>\n",
       "            <th>Location</th> <th>Burrito</th> <th>Date</th> <th>Neighborhood</th> <th>Address</th> <th>URL</th> <th>Yelp</th> <th>Google</th> <th>Chips</th> <th>Cost</th> <th>Hunger</th> <th>Mass (g)</th> <th>Density (g/mL)</th> <th>Length</th> <th>Circum</th> <th>Volume</th> <th>Tortilla</th> <th>Temp</th> <th>Meat</th> <th>Fillings</th> <th>Meat:filling</th> <th>Uniformity</th> <th>Salsa</th> <th>Synergy</th> <th>Wrap</th> <th>overall</th> <th>Reviewer</th> <th>Notes</th> <th>Unreliable</th> <th>NonSD</th> <th>Beef</th> <th>Pico</th> <th>Guac</th> <th>Cheese</th> <th>Fries</th> <th>Sour cream</th> <th>Pork</th> <th>Chicken</th> <th>Shrimp</th> <th>Fish</th> <th>Rice</th> <th>Beans</th> <th>Lettuce</th> <th>Tomato</th> <th>Bell peper</th> <th>Carrots</th> <th>Cabbage</th> <th>Sauce</th> <th>Salsa.1</th> <th>Cilantro</th> <th>Onion</th> <th>Taquito</th> <th>Pineapple</th> <th>Ham</th> <th>Chile relleno</th> <th>Nopales</th> <th>Lobster</th> <th>Queso</th> <th>Egg</th> <th>Mushroom</th> <th>Bacon</th> <th>Sushi</th> <th>Avocado</th> <th>Corn</th> <th>Zucchini</th> <th>Recommended</th>\n",
       "        </tr>\n",
       "    </thead>\n",
       "    <tbody>\n",
       "        <tr>\n",
       "            <td>Rudy's Taco Shop   </td> <td>Chicken                   </td> <td>4/9/2016 </td> <td>Solana Beach</td> <td>524 Stevens Ave </td> <td>http://www.rudystacoshop.com/                         </td> <td>4   </td> <td>4.3   </td> <td>nan  </td> <td>6.6 </td> <td>3.5   </td> <td>nan     </td> <td>nan           </td> <td>nan   </td> <td>nan   </td> <td>nan   </td> <td>3.5     </td> <td>3   </td> <td>4   </td> <td>4.5     </td> <td>3           </td> <td>1         </td> <td>3    </td> <td>4      </td> <td>0.5 </td> <td>2.8    </td> <td>Scott   </td> <td>Salsa Fresca is good, way too small                      </td> <td>nan       </td> <td>nan  </td> <td>nan </td> <td>X   </td> <td>X   </td> <td>nan   </td> <td>nan  </td> <td>nan       </td> <td>nan </td> <td>X      </td> <td>nan   </td> <td>nan </td> <td>nan </td> <td>nan  </td> <td>nan    </td> <td>nan   </td> <td>nan       </td> <td>nan    </td> <td>nan    </td> <td>nan  </td> <td>nan    </td> <td>nan     </td> <td>nan  </td> <td>nan    </td> <td>nan      </td> <td>nan </td> <td>nan          </td> <td>nan    </td> <td>nan    </td> <td>nan  </td> <td>nan </td> <td>nan     </td> <td>nan  </td> <td>nan  </td> <td>nan    </td> <td>nan </td> <td>nan     </td> <td>No         </td>\n",
       "        </tr>\n",
       "        <tr>\n",
       "            <td>Rudy's Taco Shop   </td> <td>Carnitas                  </td> <td>4/9/2016 </td> <td>nan         </td> <td>nan             </td> <td>nan                                                   </td> <td>nan </td> <td>nan   </td> <td>nan  </td> <td>6.6 </td> <td>3     </td> <td>nan     </td> <td>nan           </td> <td>nan   </td> <td>nan   </td> <td>nan   </td> <td>3       </td> <td>2.5 </td> <td>3   </td> <td>4       </td> <td>2           </td> <td>1         </td> <td>3    </td> <td>3      </td> <td>5   </td> <td>3      </td> <td>Emily   </td> <td>nan                                                      </td> <td>nan       </td> <td>nan  </td> <td>nan </td> <td>X   </td> <td>X   </td> <td>nan   </td> <td>nan  </td> <td>nan       </td> <td>X   </td> <td>nan    </td> <td>nan   </td> <td>nan </td> <td>nan </td> <td>nan  </td> <td>nan    </td> <td>nan   </td> <td>nan       </td> <td>nan    </td> <td>nan    </td> <td>nan  </td> <td>nan    </td> <td>nan     </td> <td>nan  </td> <td>nan    </td> <td>nan      </td> <td>nan </td> <td>nan          </td> <td>nan    </td> <td>nan    </td> <td>nan  </td> <td>nan </td> <td>nan     </td> <td>nan  </td> <td>nan  </td> <td>nan    </td> <td>nan </td> <td>nan     </td> <td>No         </td>\n",
       "        </tr>\n",
       "        <tr>\n",
       "            <td>Taco Stand         </td> <td>Carne asada               </td> <td>4/14/2016</td> <td>nan         </td> <td>nan             </td> <td>nan                                                   </td> <td>nan </td> <td>nan   </td> <td>nan  </td> <td>7.89</td> <td>3.5   </td> <td>nan     </td> <td>nan           </td> <td>nan   </td> <td>nan   </td> <td>nan   </td> <td>3       </td> <td>2   </td> <td>4.5 </td> <td>4       </td> <td>4           </td> <td>1.5       </td> <td>4.5  </td> <td>4.5    </td> <td>4.5 </td> <td>4.4    </td> <td>Scott   </td> <td>Too small                                                </td> <td>nan       </td> <td>nan  </td> <td>X   </td> <td>X   </td> <td>X   </td> <td>nan   </td> <td>nan  </td> <td>nan       </td> <td>nan </td> <td>nan    </td> <td>nan   </td> <td>nan </td> <td>nan </td> <td>nan  </td> <td>nan    </td> <td>nan   </td> <td>nan       </td> <td>nan    </td> <td>nan    </td> <td>nan  </td> <td>nan    </td> <td>nan     </td> <td>nan  </td> <td>nan    </td> <td>nan      </td> <td>nan </td> <td>nan          </td> <td>nan    </td> <td>nan    </td> <td>nan  </td> <td>nan </td> <td>nan     </td> <td>nan  </td> <td>nan  </td> <td>nan    </td> <td>nan </td> <td>nan     </td> <td>Yes        </td>\n",
       "        </tr>\n",
       "        <tr>\n",
       "            <td>Taco Stand         </td> <td>Carne asada               </td> <td>4/14/2016</td> <td>nan         </td> <td>nan             </td> <td>nan                                                   </td> <td>nan </td> <td>nan   </td> <td>nan  </td> <td>7.89</td> <td>2     </td> <td>nan     </td> <td>nan           </td> <td>nan   </td> <td>nan   </td> <td>nan   </td> <td>3       </td> <td>2.5 </td> <td>4.5 </td> <td>3.5     </td> <td>4.5         </td> <td>3         </td> <td>4    </td> <td>3.5    </td> <td>5   </td> <td>3.5    </td> <td>Richard </td> <td>A little small. No rice and beans or cheese or sour cream</td> <td>nan       </td> <td>nan  </td> <td>x   </td> <td>x   </td> <td>x   </td> <td>nan   </td> <td>nan  </td> <td>nan       </td> <td>nan </td> <td>nan    </td> <td>nan   </td> <td>nan </td> <td>nan </td> <td>nan  </td> <td>nan    </td> <td>nan   </td> <td>nan       </td> <td>nan    </td> <td>nan    </td> <td>nan  </td> <td>nan    </td> <td>nan     </td> <td>nan  </td> <td>nan    </td> <td>nan      </td> <td>nan </td> <td>nan          </td> <td>nan    </td> <td>nan    </td> <td>nan  </td> <td>nan </td> <td>nan     </td> <td>nan  </td> <td>nan  </td> <td>nan    </td> <td>nan </td> <td>nan     </td> <td>Yes        </td>\n",
       "        </tr>\n",
       "        <tr>\n",
       "            <td>California Burritos</td> <td>California Everything     </td> <td>4/15/2016</td> <td>Linda Vista </td> <td>7754 Starling Dr</td> <td>https://www.yelp.com/biz/california-burritos-san-diego</td> <td>4.5 </td> <td>4.4   </td> <td>x    </td> <td>6.25</td> <td>4     </td> <td>nan     </td> <td>nan           </td> <td>nan   </td> <td>nan   </td> <td>nan   </td> <td>4.5     </td> <td>4.5 </td> <td>2.5 </td> <td>3.5     </td> <td>3.5         </td> <td>3.5       </td> <td>3    </td> <td>4      </td> <td>5   </td> <td>4.1    </td> <td>Scott   </td> <td>nan                                                      </td> <td>nan       </td> <td>nan  </td> <td>x   </td> <td>x   </td> <td>x   </td> <td>x     </td> <td>x    </td> <td>x         </td> <td>nan </td> <td>nan    </td> <td>nan   </td> <td>nan </td> <td>nan </td> <td>nan  </td> <td>nan    </td> <td>nan   </td> <td>nan       </td> <td>nan    </td> <td>nan    </td> <td>nan  </td> <td>nan    </td> <td>nan     </td> <td>nan  </td> <td>nan    </td> <td>nan      </td> <td>nan </td> <td>nan          </td> <td>nan    </td> <td>nan    </td> <td>nan  </td> <td>nan </td> <td>nan     </td> <td>nan  </td> <td>nan  </td> <td>nan    </td> <td>nan </td> <td>nan     </td> <td>Yes        </td>\n",
       "        </tr>\n",
       "        <tr>\n",
       "            <td>California Burritos</td> <td>California Everything     </td> <td>4/15/2016</td> <td>nan         </td> <td>nan             </td> <td>nan                                                   </td> <td>nan </td> <td>nan   </td> <td>nan  </td> <td>6.25</td> <td>3.5   </td> <td>nan     </td> <td>nan           </td> <td>nan   </td> <td>nan   </td> <td>nan   </td> <td>4       </td> <td>4   </td> <td>4   </td> <td>2.5     </td> <td>3           </td> <td>3.5       </td> <td>4    </td> <td>4      </td> <td>5   </td> <td>4      </td> <td>Brent   </td> <td>Brent doesn't like fries in his burrito                  </td> <td>nan       </td> <td>nan  </td> <td>x   </td> <td>x   </td> <td>x   </td> <td>x     </td> <td>x    </td> <td>x         </td> <td>nan </td> <td>nan    </td> <td>nan   </td> <td>nan </td> <td>nan </td> <td>nan  </td> <td>nan    </td> <td>nan   </td> <td>nan       </td> <td>nan    </td> <td>nan    </td> <td>nan  </td> <td>nan    </td> <td>nan     </td> <td>nan  </td> <td>nan    </td> <td>nan      </td> <td>nan </td> <td>nan          </td> <td>nan    </td> <td>nan    </td> <td>nan  </td> <td>nan </td> <td>nan     </td> <td>nan  </td> <td>nan  </td> <td>nan    </td> <td>nan </td> <td>nan     </td> <td>No         </td>\n",
       "        </tr>\n",
       "        <tr>\n",
       "            <td>California Burritos</td> <td>California Everything     </td> <td>4/15/2016</td> <td>nan         </td> <td>nan             </td> <td>nan                                                   </td> <td>nan </td> <td>nan   </td> <td>nan  </td> <td>6.25</td> <td>4     </td> <td>nan     </td> <td>nan           </td> <td>nan   </td> <td>nan   </td> <td>nan   </td> <td>4       </td> <td>4.5 </td> <td>4.5 </td> <td>5       </td> <td>5           </td> <td>5         </td> <td>4.5  </td> <td>5      </td> <td>5   </td> <td>4.6    </td> <td>Luis    </td> <td>nan                                                      </td> <td>nan       </td> <td>nan  </td> <td>x   </td> <td>x   </td> <td>x   </td> <td>x     </td> <td>x    </td> <td>x         </td> <td>nan </td> <td>nan    </td> <td>nan   </td> <td>nan </td> <td>nan </td> <td>nan  </td> <td>nan    </td> <td>nan   </td> <td>nan       </td> <td>nan    </td> <td>nan    </td> <td>nan  </td> <td>nan    </td> <td>nan     </td> <td>nan  </td> <td>nan    </td> <td>nan      </td> <td>nan </td> <td>nan          </td> <td>nan    </td> <td>nan    </td> <td>nan  </td> <td>nan </td> <td>nan     </td> <td>nan  </td> <td>nan  </td> <td>nan    </td> <td>nan </td> <td>nan     </td> <td>Yes        </td>\n",
       "        </tr>\n",
       "        <tr>\n",
       "            <td>California Burritos</td> <td>Chile relleno and carnitas</td> <td>4/15/2016</td> <td>nan         </td> <td>nan             </td> <td>nan                                                   </td> <td>nan </td> <td>nan   </td> <td>nan  </td> <td>6.5 </td> <td>5     </td> <td>nan     </td> <td>nan           </td> <td>nan   </td> <td>nan   </td> <td>nan   </td> <td>4.5     </td> <td>5   </td> <td>5   </td> <td>5       </td> <td>5           </td> <td>4         </td> <td>4    </td> <td>5      </td> <td>5   </td> <td>4.7    </td> <td>Karl    </td> <td>nan                                                      </td> <td>x         </td> <td>nan  </td> <td>nan </td> <td>x   </td> <td>nan </td> <td>x     </td> <td>nan  </td> <td>x         </td> <td>x   </td> <td>nan    </td> <td>nan   </td> <td>nan </td> <td>x   </td> <td>nan  </td> <td>nan    </td> <td>nan   </td> <td>nan       </td> <td>nan    </td> <td>nan    </td> <td>nan  </td> <td>nan    </td> <td>nan     </td> <td>nan  </td> <td>nan    </td> <td>nan      </td> <td>nan </td> <td>x            </td> <td>nan    </td> <td>nan    </td> <td>nan  </td> <td>nan </td> <td>nan     </td> <td>nan  </td> <td>nan  </td> <td>nan    </td> <td>nan </td> <td>nan     </td> <td>Yes        </td>\n",
       "        </tr>\n",
       "        <tr>\n",
       "            <td>California Burritos</td> <td>California (only cheese)  </td> <td>4/15/2016</td> <td>nan         </td> <td>nan             </td> <td>nan                                                   </td> <td>nan </td> <td>nan   </td> <td>nan  </td> <td>6.25</td> <td>2     </td> <td>nan     </td> <td>nan           </td> <td>nan   </td> <td>nan   </td> <td>nan   </td> <td>5       </td> <td>5   </td> <td>5   </td> <td>4       </td> <td>4           </td> <td>2         </td> <td>nan  </td> <td>5      </td> <td>5   </td> <td>5      </td> <td>Kalen   </td> <td>nan                                                      </td> <td>x         </td> <td>nan  </td> <td>x   </td> <td>nan </td> <td>nan </td> <td>x     </td> <td>x    </td> <td>nan       </td> <td>nan </td> <td>nan    </td> <td>nan   </td> <td>nan </td> <td>nan </td> <td>nan  </td> <td>nan    </td> <td>nan   </td> <td>nan       </td> <td>nan    </td> <td>nan    </td> <td>nan  </td> <td>nan    </td> <td>nan     </td> <td>nan  </td> <td>nan    </td> <td>nan      </td> <td>nan </td> <td>nan          </td> <td>nan    </td> <td>nan    </td> <td>nan  </td> <td>nan </td> <td>nan     </td> <td>nan  </td> <td>nan  </td> <td>nan    </td> <td>nan </td> <td>nan     </td> <td>Yes        </td>\n",
       "        </tr>\n",
       "        <tr>\n",
       "            <td>Vallarta express   </td> <td>Fish                      </td> <td>4/15/2016</td> <td>nan         </td> <td>nan             </td> <td>nan                                                   </td> <td>nan </td> <td>nan   </td> <td>nan  </td> <td>6.5 </td> <td>2.5   </td> <td>nan     </td> <td>nan           </td> <td>nan   </td> <td>nan   </td> <td>nan   </td> <td>3       </td> <td>nan </td> <td>3.5 </td> <td>4       </td> <td>4           </td> <td>3         </td> <td>nan  </td> <td>4      </td> <td>1.5 </td> <td>3.5    </td> <td>Erin    </td> <td>nan                                                      </td> <td>nan       </td> <td>nan  </td> <td>nan </td> <td>nan </td> <td>nan </td> <td>nan   </td> <td>nan  </td> <td>nan       </td> <td>nan </td> <td>nan    </td> <td>nan   </td> <td>nan </td> <td>nan </td> <td>nan  </td> <td>nan    </td> <td>nan   </td> <td>nan       </td> <td>nan    </td> <td>nan    </td> <td>nan  </td> <td>nan    </td> <td>nan     </td> <td>nan  </td> <td>nan    </td> <td>nan      </td> <td>nan </td> <td>nan          </td> <td>nan    </td> <td>nan    </td> <td>nan  </td> <td>nan </td> <td>nan     </td> <td>nan  </td> <td>nan  </td> <td>nan    </td> <td>nan </td> <td>nan     </td> <td>nan        </td>\n",
       "        </tr>\n",
       "    </tbody>\n",
       "</table>\n",
       "<p>... (402 rows omitted)</p>"
      ],
      "text/plain": [
       "Location            | Burrito                    | Date      | Neighborhood | Address          | URL                                                    | Yelp | Google | Chips | Cost | Hunger | Mass (g) | Density (g/mL) | Length | Circum | Volume | Tortilla | Temp | Meat | Fillings | Meat:filling | Uniformity | Salsa | Synergy | Wrap | overall | Reviewer | Notes                                                     | Unreliable | NonSD | Beef | Pico | Guac | Cheese | Fries | Sour cream | Pork | Chicken | Shrimp | Fish | Rice | Beans | Lettuce | Tomato | Bell peper | Carrots | Cabbage | Sauce | Salsa.1 | Cilantro | Onion | Taquito | Pineapple | Ham  | Chile relleno | Nopales | Lobster | Queso | Egg  | Mushroom | Bacon | Sushi | Avocado | Corn | Zucchini | Recommended\n",
       "Rudy's Taco Shop    | Chicken                    | 4/9/2016  | Solana Beach | 524 Stevens Ave  | http://www.rudystacoshop.com/                          | 4    | 4.3    | nan   | 6.6  | 3.5    | nan      | nan            | nan    | nan    | nan    | 3.5      | 3    | 4    | 4.5      | 3            | 1          | 3     | 4       | 0.5  | 2.8     | Scott    | Salsa Fresca is good, way too small                       | nan        | nan   | nan  | X    | X    | nan    | nan   | nan        | nan  | X       | nan    | nan  | nan  | nan   | nan     | nan    | nan        | nan     | nan     | nan   | nan     | nan      | nan   | nan     | nan       | nan  | nan           | nan     | nan     | nan   | nan  | nan      | nan   | nan   | nan     | nan  | nan      | No\n",
       "Rudy's Taco Shop    | Carnitas                   | 4/9/2016  | nan          | nan              | nan                                                    | nan  | nan    | nan   | 6.6  | 3      | nan      | nan            | nan    | nan    | nan    | 3        | 2.5  | 3    | 4        | 2            | 1          | 3     | 3       | 5    | 3       | Emily    | nan                                                       | nan        | nan   | nan  | X    | X    | nan    | nan   | nan        | X    | nan     | nan    | nan  | nan  | nan   | nan     | nan    | nan        | nan     | nan     | nan   | nan     | nan      | nan   | nan     | nan       | nan  | nan           | nan     | nan     | nan   | nan  | nan      | nan   | nan   | nan     | nan  | nan      | No\n",
       "Taco Stand          | Carne asada                | 4/14/2016 | nan          | nan              | nan                                                    | nan  | nan    | nan   | 7.89 | 3.5    | nan      | nan            | nan    | nan    | nan    | 3        | 2    | 4.5  | 4        | 4            | 1.5        | 4.5   | 4.5     | 4.5  | 4.4     | Scott    | Too small                                                 | nan        | nan   | X    | X    | X    | nan    | nan   | nan        | nan  | nan     | nan    | nan  | nan  | nan   | nan     | nan    | nan        | nan     | nan     | nan   | nan     | nan      | nan   | nan     | nan       | nan  | nan           | nan     | nan     | nan   | nan  | nan      | nan   | nan   | nan     | nan  | nan      | Yes\n",
       "Taco Stand          | Carne asada                | 4/14/2016 | nan          | nan              | nan                                                    | nan  | nan    | nan   | 7.89 | 2      | nan      | nan            | nan    | nan    | nan    | 3        | 2.5  | 4.5  | 3.5      | 4.5          | 3          | 4     | 3.5     | 5    | 3.5     | Richard  | A little small. No rice and beans or cheese or sour cream | nan        | nan   | x    | x    | x    | nan    | nan   | nan        | nan  | nan     | nan    | nan  | nan  | nan   | nan     | nan    | nan        | nan     | nan     | nan   | nan     | nan      | nan   | nan     | nan       | nan  | nan           | nan     | nan     | nan   | nan  | nan      | nan   | nan   | nan     | nan  | nan      | Yes\n",
       "California Burritos | California Everything      | 4/15/2016 | Linda Vista  | 7754 Starling Dr | https://www.yelp.com/biz/california-burritos-san-diego | 4.5  | 4.4    | x     | 6.25 | 4      | nan      | nan            | nan    | nan    | nan    | 4.5      | 4.5  | 2.5  | 3.5      | 3.5          | 3.5        | 3     | 4       | 5    | 4.1     | Scott    | nan                                                       | nan        | nan   | x    | x    | x    | x      | x     | x          | nan  | nan     | nan    | nan  | nan  | nan   | nan     | nan    | nan        | nan     | nan     | nan   | nan     | nan      | nan   | nan     | nan       | nan  | nan           | nan     | nan     | nan   | nan  | nan      | nan   | nan   | nan     | nan  | nan      | Yes\n",
       "California Burritos | California Everything      | 4/15/2016 | nan          | nan              | nan                                                    | nan  | nan    | nan   | 6.25 | 3.5    | nan      | nan            | nan    | nan    | nan    | 4        | 4    | 4    | 2.5      | 3            | 3.5        | 4     | 4       | 5    | 4       | Brent    | Brent doesn't like fries in his burrito                   | nan        | nan   | x    | x    | x    | x      | x     | x          | nan  | nan     | nan    | nan  | nan  | nan   | nan     | nan    | nan        | nan     | nan     | nan   | nan     | nan      | nan   | nan     | nan       | nan  | nan           | nan     | nan     | nan   | nan  | nan      | nan   | nan   | nan     | nan  | nan      | No\n",
       "California Burritos | California Everything      | 4/15/2016 | nan          | nan              | nan                                                    | nan  | nan    | nan   | 6.25 | 4      | nan      | nan            | nan    | nan    | nan    | 4        | 4.5  | 4.5  | 5        | 5            | 5          | 4.5   | 5       | 5    | 4.6     | Luis     | nan                                                       | nan        | nan   | x    | x    | x    | x      | x     | x          | nan  | nan     | nan    | nan  | nan  | nan   | nan     | nan    | nan        | nan     | nan     | nan   | nan     | nan      | nan   | nan     | nan       | nan  | nan           | nan     | nan     | nan   | nan  | nan      | nan   | nan   | nan     | nan  | nan      | Yes\n",
       "California Burritos | Chile relleno and carnitas | 4/15/2016 | nan          | nan              | nan                                                    | nan  | nan    | nan   | 6.5  | 5      | nan      | nan            | nan    | nan    | nan    | 4.5      | 5    | 5    | 5        | 5            | 4          | 4     | 5       | 5    | 4.7     | Karl     | nan                                                       | x          | nan   | nan  | x    | nan  | x      | nan   | x          | x    | nan     | nan    | nan  | x    | nan   | nan     | nan    | nan        | nan     | nan     | nan   | nan     | nan      | nan   | nan     | nan       | nan  | x             | nan     | nan     | nan   | nan  | nan      | nan   | nan   | nan     | nan  | nan      | Yes\n",
       "California Burritos | California (only cheese)   | 4/15/2016 | nan          | nan              | nan                                                    | nan  | nan    | nan   | 6.25 | 2      | nan      | nan            | nan    | nan    | nan    | 5        | 5    | 5    | 4        | 4            | 2          | nan   | 5       | 5    | 5       | Kalen    | nan                                                       | x          | nan   | x    | nan  | nan  | x      | x     | nan        | nan  | nan     | nan    | nan  | nan  | nan   | nan     | nan    | nan        | nan     | nan     | nan   | nan     | nan      | nan   | nan     | nan       | nan  | nan           | nan     | nan     | nan   | nan  | nan      | nan   | nan   | nan     | nan  | nan      | Yes\n",
       "Vallarta express    | Fish                       | 4/15/2016 | nan          | nan              | nan                                                    | nan  | nan    | nan   | 6.5  | 2.5    | nan      | nan            | nan    | nan    | nan    | 3        | nan  | 3.5  | 4        | 4            | 3          | nan   | 4       | 1.5  | 3.5     | Erin     | nan                                                       | nan        | nan   | nan  | nan  | nan  | nan    | nan   | nan        | nan  | nan     | nan    | nan  | nan  | nan   | nan     | nan    | nan        | nan     | nan     | nan   | nan     | nan      | nan   | nan     | nan       | nan  | nan           | nan     | nan     | nan   | nan  | nan      | nan   | nan   | nan     | nan  | nan      | nan\n",
       "... (402 rows omitted)"
      ]
     },
     "execution_count": 62,
     "metadata": {},
     "output_type": "execute_result"
    }
   ],
   "source": [
    "burritos_dataset"
   ]
  },
  {
   "cell_type": "code",
   "execution_count": 83,
   "metadata": {},
   "outputs": [
    {
     "name": "stdout",
     "output_type": "stream",
     "text": [
      "0.815718060122\n",
      "0.396722929337\n",
      "0.245985695113\n",
      "0.65938483177\n",
      "0.705049795531\n",
      "0.42126883359\n",
      "0.320466475697\n",
      "0.375454668132\n",
      "0.695652869724\n",
      "0.133258815413\n"
     ]
    }
   ],
   "source": [
    "slopes = make_array()\n",
    "\n",
    "for feature in features:\n",
    "    # Remove nans from burrito_dataset\n",
    "    cleaned_table_temp = burritos_dataset.where(feature, are.above(-1)).where(\"overall\", are.above(-1)).select(feature, \"overall\")\n",
    "    # Calculate slope\n",
    "    this_slope = slope(cleaned_table_temp, feature, \"overall\")\n",
    "    print(this_slope)\n",
    "    slopes = np.append(slopes, this_slope)"
   ]
  },
  {
   "cell_type": "code",
   "execution_count": 88,
   "metadata": {},
   "outputs": [
    {
     "data": {
      "text/html": [
       "<table border=\"1\" class=\"dataframe\">\n",
       "    <thead>\n",
       "        <tr>\n",
       "            <th>Feature</th> <th>Slope</th>\n",
       "        </tr>\n",
       "    </thead>\n",
       "    <tbody>\n",
       "        <tr>\n",
       "            <td>Volume      </td> <td>0.815718</td>\n",
       "        </tr>\n",
       "        <tr>\n",
       "            <td>Fillings    </td> <td>0.70505 </td>\n",
       "        </tr>\n",
       "        <tr>\n",
       "            <td>Synergy     </td> <td>0.695653</td>\n",
       "        </tr>\n",
       "        <tr>\n",
       "            <td>Meat        </td> <td>0.659385</td>\n",
       "        </tr>\n",
       "        <tr>\n",
       "            <td>Meat:filling</td> <td>0.421269</td>\n",
       "        </tr>\n",
       "        <tr>\n",
       "            <td>Tortilla    </td> <td>0.396723</td>\n",
       "        </tr>\n",
       "        <tr>\n",
       "            <td>Salsa       </td> <td>0.375455</td>\n",
       "        </tr>\n",
       "        <tr>\n",
       "            <td>Uniformity  </td> <td>0.320466</td>\n",
       "        </tr>\n",
       "        <tr>\n",
       "            <td>Temp        </td> <td>0.245986</td>\n",
       "        </tr>\n",
       "        <tr>\n",
       "            <td>Wrap        </td> <td>0.133259</td>\n",
       "        </tr>\n",
       "    </tbody>\n",
       "</table>"
      ],
      "text/plain": [
       "Feature      | Slope\n",
       "Volume       | 0.815718\n",
       "Fillings     | 0.70505\n",
       "Synergy      | 0.695653\n",
       "Meat         | 0.659385\n",
       "Meat:filling | 0.421269\n",
       "Tortilla     | 0.396723\n",
       "Salsa        | 0.375455\n",
       "Uniformity   | 0.320466\n",
       "Temp         | 0.245986\n",
       "Wrap         | 0.133259"
      ]
     },
     "execution_count": 88,
     "metadata": {},
     "output_type": "execute_result"
    }
   ],
   "source": [
    "feature_analysis = Table().with_columns('Feature', features, 'Slope', slopes).sort('Slope', descending=True)\n",
    "feature_analysis"
   ]
  },
  {
   "cell_type": "code",
   "execution_count": 89,
   "metadata": {
    "scrolled": true
   },
   "outputs": [
    {
     "data": {
      "text/plain": [
       "True"
      ]
     },
     "execution_count": 89,
     "metadata": {},
     "output_type": "execute_result"
    }
   ],
   "source": [
    "feature_analysis.labels == ('Feature', 'Slope')"
   ]
  },
  {
   "cell_type": "code",
   "execution_count": 90,
   "metadata": {},
   "outputs": [
    {
     "name": "stdout",
     "output_type": "stream",
     "text": [
      "~~~~~~~~~~~~~~~~~~~~~~~~~~~~~~~~~~~~~~~~~~~~~~~~~~~~~~~~~~~~~~~~~~~~~\n",
      "Running tests\n",
      "\n",
      "---------------------------------------------------------------------\n",
      "Test summary\n",
      "    Passed: 1\n",
      "    Failed: 0\n",
      "[ooooooooook] 100.0% passed\n",
      "\n"
     ]
    }
   ],
   "source": [
    "_ = ok.grade('q3_2')"
   ]
  },
  {
   "cell_type": "markdown",
   "metadata": {},
   "source": [
    "From this table, we can see which features are the most helpful for calculating overall rating!"
   ]
  },
  {
   "cell_type": "markdown",
   "metadata": {},
   "source": [
    "# 4. Classify Goody's burritos!"
   ]
  },
  {
   "cell_type": "markdown",
   "metadata": {},
   "source": [
    "In the previous section, we found the factors that are most important for burritos according to the ratings. Now, it's time for you to classfify new burritos!\n",
    "\n",
    "You will first load in the csv file containing reviews for burritos from Goody's, `goodys.csv`. There are four reviews, and you will use the functions defined above to decide whether each review says the Goody's burrito is recommended or not, using only two factors, `Volume` and `Fillings`.\n",
    "\n",
    "**Tip:** You might find the `classify()` function useful when doing the classification.\n"
   ]
  },
  {
   "cell_type": "markdown",
   "metadata": {},
   "source": [
    "## 4.1 Load Data"
   ]
  },
  {
   "cell_type": "markdown",
   "metadata": {},
   "source": [
    "**Question 4.1** Create a table called `data_to_classify` by loading in the csv file `goodys.csv` and then only selecting the two columns corresponding to `Volume` and `Fillings`. "
   ]
  },
  {
   "cell_type": "code",
   "execution_count": 92,
   "metadata": {
    "scrolled": true
   },
   "outputs": [
    {
     "data": {
      "text/html": [
       "<table border=\"1\" class=\"dataframe\">\n",
       "    <thead>\n",
       "        <tr>\n",
       "            <th>Volume</th> <th>Fillings</th>\n",
       "        </tr>\n",
       "    </thead>\n",
       "    <tbody>\n",
       "        <tr>\n",
       "            <td>0.77  </td> <td>3       </td>\n",
       "        </tr>\n",
       "        <tr>\n",
       "            <td>0.55  </td> <td>2       </td>\n",
       "        </tr>\n",
       "        <tr>\n",
       "            <td>1.47  </td> <td>5       </td>\n",
       "        </tr>\n",
       "        <tr>\n",
       "            <td>1.5   </td> <td>4       </td>\n",
       "        </tr>\n",
       "    </tbody>\n",
       "</table>"
      ],
      "text/plain": [
       "Volume | Fillings\n",
       "0.77   | 3\n",
       "0.55   | 2\n",
       "1.47   | 5\n",
       "1.5    | 4"
      ]
     },
     "execution_count": 92,
     "metadata": {},
     "output_type": "execute_result"
    }
   ],
   "source": [
    "data_to_classify = Table.read_table(\"goodys.csv\").select(\"Volume\", \"Fillings\")\n",
    "data_to_classify"
   ]
  },
  {
   "cell_type": "code",
   "execution_count": 93,
   "metadata": {},
   "outputs": [
    {
     "data": {
      "text/plain": [
       "True"
      ]
     },
     "execution_count": 93,
     "metadata": {},
     "output_type": "execute_result"
    }
   ],
   "source": [
    "data_to_classify.labels == ('Volume', 'Fillings')"
   ]
  },
  {
   "cell_type": "code",
   "execution_count": 94,
   "metadata": {},
   "outputs": [
    {
     "name": "stdout",
     "output_type": "stream",
     "text": [
      "~~~~~~~~~~~~~~~~~~~~~~~~~~~~~~~~~~~~~~~~~~~~~~~~~~~~~~~~~~~~~~~~~~~~~\n",
      "Running tests\n",
      "\n",
      "---------------------------------------------------------------------\n",
      "Test summary\n",
      "    Passed: 1\n",
      "    Failed: 0\n",
      "[ooooooooook] 100.0% passed\n",
      "\n"
     ]
    }
   ],
   "source": [
    "_ = ok.grade('q4_1')"
   ]
  },
  {
   "cell_type": "markdown",
   "metadata": {},
   "source": [
    "Look at the values in your table, and take a guess on whether each of the burritos (in each row) is recommended or not by the reviewer. Recall that Volume is not on a 0-5 scale. Instead, it's measured in liters. The average burrito in our dataset occupied approximately 0.85 liters. "
   ]
  },
  {
   "cell_type": "markdown",
   "metadata": {},
   "source": [
    "## 4.2 Generate Training Dataset "
   ]
  },
  {
   "cell_type": "markdown",
   "metadata": {},
   "source": [
    "**Question 4.2** We will generate our training dataset from the original `burritos_dataset`, selecting only the columns `Volume`, `Fillings`, and the label `Recommended` that tells us whether the burrito is recommended or not. Save this new table as `training_burritos`."
   ]
  },
  {
   "cell_type": "code",
   "execution_count": 96,
   "metadata": {
    "scrolled": false
   },
   "outputs": [
    {
     "data": {
      "text/html": [
       "<table border=\"1\" class=\"dataframe\">\n",
       "    <thead>\n",
       "        <tr>\n",
       "            <th>Volume</th> <th>Fillings</th> <th>Recommended</th>\n",
       "        </tr>\n",
       "    </thead>\n",
       "    <tbody>\n",
       "        <tr>\n",
       "            <td>nan   </td> <td>4.5     </td> <td>No         </td>\n",
       "        </tr>\n",
       "        <tr>\n",
       "            <td>nan   </td> <td>4       </td> <td>No         </td>\n",
       "        </tr>\n",
       "        <tr>\n",
       "            <td>nan   </td> <td>4       </td> <td>Yes        </td>\n",
       "        </tr>\n",
       "        <tr>\n",
       "            <td>nan   </td> <td>3.5     </td> <td>Yes        </td>\n",
       "        </tr>\n",
       "        <tr>\n",
       "            <td>nan   </td> <td>3.5     </td> <td>Yes        </td>\n",
       "        </tr>\n",
       "        <tr>\n",
       "            <td>nan   </td> <td>2.5     </td> <td>No         </td>\n",
       "        </tr>\n",
       "        <tr>\n",
       "            <td>nan   </td> <td>5       </td> <td>Yes        </td>\n",
       "        </tr>\n",
       "        <tr>\n",
       "            <td>nan   </td> <td>5       </td> <td>Yes        </td>\n",
       "        </tr>\n",
       "        <tr>\n",
       "            <td>nan   </td> <td>4       </td> <td>Yes        </td>\n",
       "        </tr>\n",
       "        <tr>\n",
       "            <td>nan   </td> <td>4       </td> <td>nan        </td>\n",
       "        </tr>\n",
       "    </tbody>\n",
       "</table>\n",
       "<p>... (402 rows omitted)</p>"
      ],
      "text/plain": [
       "Volume | Fillings | Recommended\n",
       "nan    | 4.5      | No\n",
       "nan    | 4        | No\n",
       "nan    | 4        | Yes\n",
       "nan    | 3.5      | Yes\n",
       "nan    | 3.5      | Yes\n",
       "nan    | 2.5      | No\n",
       "nan    | 5        | Yes\n",
       "nan    | 5        | Yes\n",
       "nan    | 4        | Yes\n",
       "nan    | 4        | nan\n",
       "... (402 rows omitted)"
      ]
     },
     "execution_count": 96,
     "metadata": {},
     "output_type": "execute_result"
    }
   ],
   "source": [
    "training_burritos = burritos_dataset.select(\"Volume\", \"Fillings\", \"Recommended\")\n",
    "training_burritos"
   ]
  },
  {
   "cell_type": "code",
   "execution_count": 97,
   "metadata": {},
   "outputs": [
    {
     "data": {
      "text/plain": [
       "True"
      ]
     },
     "execution_count": 97,
     "metadata": {},
     "output_type": "execute_result"
    }
   ],
   "source": [
    "training_burritos.labels == ('Volume', 'Fillings', 'Recommended')"
   ]
  },
  {
   "cell_type": "code",
   "execution_count": 98,
   "metadata": {},
   "outputs": [
    {
     "name": "stdout",
     "output_type": "stream",
     "text": [
      "~~~~~~~~~~~~~~~~~~~~~~~~~~~~~~~~~~~~~~~~~~~~~~~~~~~~~~~~~~~~~~~~~~~~~\n",
      "Running tests\n",
      "\n",
      "---------------------------------------------------------------------\n",
      "Test summary\n",
      "    Passed: 1\n",
      "    Failed: 0\n",
      "[ooooooooook] 100.0% passed\n",
      "\n"
     ]
    }
   ],
   "source": [
    "_ = ok.grade('q4_2')"
   ]
  },
  {
   "cell_type": "markdown",
   "metadata": {},
   "source": [
    "## 4.3 Clean your dataset"
   ]
  },
  {
   "cell_type": "markdown",
   "metadata": {},
   "source": [
    "**Question 4.3** It's your turn to clean the training data. Notice that the first several values in `Volume` column are `nan`, which indicates there is no value in those cells. It's pretty common for this field to be left blank by reviewers, since only hardcore burrito reviewers would have on hand the tools necessary to calculate volume. \n",
    "\n",
    "Clean the data in `training_burritos` by removing `nan` values from each of the three columns. Refer back to section **1.2 Cleaning our data**, if you don't know how to approach this."
   ]
  },
  {
   "cell_type": "code",
   "execution_count": 110,
   "metadata": {
    "scrolled": true
   },
   "outputs": [
    {
     "data": {
      "text/html": [
       "<table border=\"1\" class=\"dataframe\">\n",
       "    <thead>\n",
       "        <tr>\n",
       "            <th>Volume</th> <th>Fillings</th> <th>Recommended</th>\n",
       "        </tr>\n",
       "    </thead>\n",
       "    <tbody>\n",
       "        <tr>\n",
       "            <td>0.77  </td> <td>4       </td> <td>Yes        </td>\n",
       "        </tr>\n",
       "        <tr>\n",
       "            <td>0.7   </td> <td>1.5     </td> <td>No         </td>\n",
       "        </tr>\n",
       "        <tr>\n",
       "            <td>0.78  </td> <td>2.5     </td> <td>No         </td>\n",
       "        </tr>\n",
       "        <tr>\n",
       "            <td>0.96  </td> <td>2.5     </td> <td>No         </td>\n",
       "        </tr>\n",
       "        <tr>\n",
       "            <td>0.93  </td> <td>3.5     </td> <td>Yes        </td>\n",
       "        </tr>\n",
       "        <tr>\n",
       "            <td>0.95  </td> <td>4       </td> <td>Yes        </td>\n",
       "        </tr>\n",
       "        <tr>\n",
       "            <td>0.81  </td> <td>4       </td> <td>No         </td>\n",
       "        </tr>\n",
       "        <tr>\n",
       "            <td>0.73  </td> <td>4       </td> <td>Yes        </td>\n",
       "        </tr>\n",
       "        <tr>\n",
       "            <td>0.82  </td> <td>4       </td> <td>Yes        </td>\n",
       "        </tr>\n",
       "        <tr>\n",
       "            <td>0.88  </td> <td>3.5     </td> <td>Yes        </td>\n",
       "        </tr>\n",
       "    </tbody>\n",
       "</table>\n",
       "<p>... (160 rows omitted)</p>"
      ],
      "text/plain": [
       "Volume | Fillings | Recommended\n",
       "0.77   | 4        | Yes\n",
       "0.7    | 1.5      | No\n",
       "0.78   | 2.5      | No\n",
       "0.96   | 2.5      | No\n",
       "0.93   | 3.5      | Yes\n",
       "0.95   | 4        | Yes\n",
       "0.81   | 4        | No\n",
       "0.73   | 4        | Yes\n",
       "0.82   | 4        | Yes\n",
       "0.88   | 3.5      | Yes\n",
       "... (160 rows omitted)"
      ]
     },
     "execution_count": 110,
     "metadata": {},
     "output_type": "execute_result"
    }
   ],
   "source": [
    "training_burritos = training_burritos.where(\"Volume\", are.above(-1)).where(\"Fillings\", are.above(-1)).where(\"Recommended\", are.not_equal_to(\"nan\"))\n",
    "training_burritos"
   ]
  },
  {
   "cell_type": "markdown",
   "metadata": {},
   "source": [
    "## 4.4 Classify new burritos"
   ]
  },
  {
   "cell_type": "markdown",
   "metadata": {},
   "source": [
    "**Question 4.4** Now that we've created the classifier and generated training data, we can use our classifier on new data to predict whether burritos are recommended.\n",
    "\n",
    "Call the function `classify()` for each of the four reviews in the `data_to_classify` table, using `k=3` for the classification. Save your predictions (each of which is either \"Yes\" or \"No\") for each of the four burritos in an array called `predictions_array`. "
   ]
  },
  {
   "cell_type": "code",
   "execution_count": 111,
   "metadata": {},
   "outputs": [
    {
     "data": {
      "text/plain": [
       "array(['Yes', 'No', 'Yes', 'Yes'], \n",
       "      dtype='<U32')"
      ]
     },
     "execution_count": 111,
     "metadata": {},
     "output_type": "execute_result"
    }
   ],
   "source": [
    "predictions_array = make_array()\n",
    "for i in np.arange(data_to_classify.num_rows):\n",
    "    this_burrito = make_array(data_to_classify.column(0)[i], data_to_classify.column(1)[i])\n",
    "    this_prediction = classify(training_burritos, this_burrito, 3)\n",
    "    predictions_array = np.append(predictions_array, this_prediction)\n",
    "predictions_array"
   ]
  },
  {
   "cell_type": "markdown",
   "metadata": {},
   "source": [
    "To make sure your predictions are reasonable, think about whether these classification results agree with what you expect. For example, are higher scores in `Fillings` column more likely to be recommended?"
   ]
  },
  {
   "cell_type": "markdown",
   "metadata": {},
   "source": [
    "## 4.5 Final thoughts - How Accurate is our Classifier?"
   ]
  },
  {
   "cell_type": "markdown",
   "metadata": {},
   "source": [
    "After we've classified all four burritos, we can evaluate the accuracy of our classifier by comparing our predictions to whether or not each burrito was actually recommended.\n",
    "\n",
    "**Classification accuracy** is the percentage of total predictions made that were correct.\n",
    "\n",
    "Therefore, the classification accuracy will be 100 percent when every prediction that we make turns out to be correct.\n",
    "\n",
    "**Question 4.5** The actual recommendations for the four Goody's burritos given by the reviewers was `No`, `No`, `Yes`, `Yes` (in order). Is there a discrepency between your classification and the actual reviews/labels? What percentage of your predictions agree with the actual recommendation? Save your answer as `classification_accuracy`, which should be a number between 0 and 100 with no percentage symbol."
   ]
  },
  {
   "cell_type": "code",
   "execution_count": 112,
   "metadata": {},
   "outputs": [],
   "source": [
    "classification_accuracy = 75"
   ]
  },
  {
   "cell_type": "code",
   "execution_count": 113,
   "metadata": {},
   "outputs": [
    {
     "name": "stdout",
     "output_type": "stream",
     "text": [
      "~~~~~~~~~~~~~~~~~~~~~~~~~~~~~~~~~~~~~~~~~~~~~~~~~~~~~~~~~~~~~~~~~~~~~\n",
      "Running tests\n",
      "\n",
      "---------------------------------------------------------------------\n",
      "Test summary\n",
      "    Passed: 1\n",
      "    Failed: 0\n",
      "[ooooooooook] 100.0% passed\n",
      "\n"
     ]
    }
   ],
   "source": [
    "_ = ok.grade('q4_5')"
   ]
  },
  {
   "cell_type": "markdown",
   "metadata": {},
   "source": [
    "You'll likely find that not all recommendations agree with your results, which means the classifier we created is not perfect. \n",
    "\n",
    "There are a lot of ways to **boost the accuracy** of our classifier. We could include more data in our traning set, if it is available. Or we could treat missing values more carefully by trying to fill them in in some reasonable way, rather than omitting those reviews entirely. Also, we can carefully select features, like what we did in section 3; if you select the features that matter most for the burritos, you'll be more likely to get an accurate prediction. We can include more features to get better predictions, or change the value of `k` that we used. Alternatively, we could even turn to a completely different classifier altogether (non KNN)!"
   ]
  },
  {
   "cell_type": "markdown",
   "metadata": {},
   "source": [
    "We hope you've learned through this extra credit homework what a classification problem is and how KNN works. You can think about ways to make your classifier better. Feel free to discuss this with the instructional staff.\n",
    "\n",
    "For a further extension, think about how you would change your classifier to use more than two features. Do you think using more than two features will make your model more accurate? Why or why not? How will your KNN algorithm change if you use three different features to classify the burritos? Why not use all ten?\n"
   ]
  },
  {
   "cell_type": "markdown",
   "metadata": {},
   "source": [
    "## References and Further Reading: "
   ]
  },
  {
   "cell_type": "markdown",
   "metadata": {},
   "source": [
    "1. Inferential Thinking, Textbook, Chapter 17, Classification:\n",
    "https://www.inferentialthinking.com/chapters/17/Classification.html\n",
    "2. Machine Learning Classifiers, Toward Data Science: \n",
    "https://towardsdatascience.com/machine-learning-classifiers-a5cc4e1b0623\n",
    "3. Tutorial for KNN algorithm, in more detail:\n",
    "https://www.analyticsvidhya.com/blog/2018/08/k-nearest-neighbor-introduction-regression-python/\n",
    "4. 8 Proven Ways for improving the “Accuracy” of a Machine Learning Model: https://www.analyticsvidhya.com/blog/2015/12/improve-machine-learning-results/"
   ]
  },
  {
   "cell_type": "code",
   "execution_count": 114,
   "metadata": {},
   "outputs": [
    {
     "name": "stdout",
     "output_type": "stream",
     "text": [
      "~~~~~~~~~~~~~~~~~~~~~~~~~~~~~~~~~~~~~~~~~~~~~~~~~~~~~~~~~~~~~~~~~~~~~\n",
      "Running tests\n",
      "\n",
      "---------------------------------------------------------------------\n",
      "Test summary\n",
      "    Passed: 1\n",
      "    Failed: 0\n",
      "[ooooooooook] 100.0% passed\n",
      "\n",
      "~~~~~~~~~~~~~~~~~~~~~~~~~~~~~~~~~~~~~~~~~~~~~~~~~~~~~~~~~~~~~~~~~~~~~\n",
      "Running tests\n",
      "\n",
      "---------------------------------------------------------------------\n",
      "Test summary\n",
      "    Passed: 1\n",
      "    Failed: 0\n",
      "[ooooooooook] 100.0% passed\n",
      "\n",
      "~~~~~~~~~~~~~~~~~~~~~~~~~~~~~~~~~~~~~~~~~~~~~~~~~~~~~~~~~~~~~~~~~~~~~\n",
      "Running tests\n",
      "\n",
      "---------------------------------------------------------------------\n",
      "Test summary\n",
      "    Passed: 1\n",
      "    Failed: 0\n",
      "[ooooooooook] 100.0% passed\n",
      "\n",
      "~~~~~~~~~~~~~~~~~~~~~~~~~~~~~~~~~~~~~~~~~~~~~~~~~~~~~~~~~~~~~~~~~~~~~\n",
      "Running tests\n",
      "\n",
      "---------------------------------------------------------------------\n",
      "Test summary\n",
      "    Passed: 1\n",
      "    Failed: 0\n",
      "[ooooooooook] 100.0% passed\n",
      "\n",
      "~~~~~~~~~~~~~~~~~~~~~~~~~~~~~~~~~~~~~~~~~~~~~~~~~~~~~~~~~~~~~~~~~~~~~\n",
      "Running tests\n",
      "\n",
      "---------------------------------------------------------------------\n",
      "Test summary\n",
      "    Passed: 1\n",
      "    Failed: 0\n",
      "[ooooooooook] 100.0% passed\n",
      "\n",
      "~~~~~~~~~~~~~~~~~~~~~~~~~~~~~~~~~~~~~~~~~~~~~~~~~~~~~~~~~~~~~~~~~~~~~\n",
      "Running tests\n",
      "\n",
      "---------------------------------------------------------------------\n",
      "Test summary\n",
      "    Passed: 1\n",
      "    Failed: 0\n",
      "[ooooooooook] 100.0% passed\n",
      "\n",
      "~~~~~~~~~~~~~~~~~~~~~~~~~~~~~~~~~~~~~~~~~~~~~~~~~~~~~~~~~~~~~~~~~~~~~\n",
      "Running tests\n",
      "\n",
      "---------------------------------------------------------------------\n",
      "Test summary\n",
      "    Passed: 1\n",
      "    Failed: 0\n",
      "[ooooooooook] 100.0% passed\n",
      "\n",
      "~~~~~~~~~~~~~~~~~~~~~~~~~~~~~~~~~~~~~~~~~~~~~~~~~~~~~~~~~~~~~~~~~~~~~\n",
      "Running tests\n",
      "\n",
      "---------------------------------------------------------------------\n",
      "Test summary\n",
      "    Passed: 1\n",
      "    Failed: 0\n",
      "[ooooooooook] 100.0% passed\n",
      "\n",
      "~~~~~~~~~~~~~~~~~~~~~~~~~~~~~~~~~~~~~~~~~~~~~~~~~~~~~~~~~~~~~~~~~~~~~\n",
      "Running tests\n",
      "\n",
      "---------------------------------------------------------------------\n",
      "Test summary\n",
      "    Passed: 1\n",
      "    Failed: 0\n",
      "[ooooooooook] 100.0% passed\n",
      "\n",
      "~~~~~~~~~~~~~~~~~~~~~~~~~~~~~~~~~~~~~~~~~~~~~~~~~~~~~~~~~~~~~~~~~~~~~\n",
      "Running tests\n",
      "\n",
      "---------------------------------------------------------------------\n",
      "Test summary\n",
      "    Passed: 1\n",
      "    Failed: 0\n",
      "[ooooooooook] 100.0% passed\n",
      "\n"
     ]
    }
   ],
   "source": [
    "# For your convenience, you can run this cell to run all the tests at once!\n",
    "import os\n",
    "_ = [ok.grade(q[:-3]) for q in os.listdir(\"tests\") if q.startswith('q')]"
   ]
  },
  {
   "cell_type": "code",
   "execution_count": null,
   "metadata": {},
   "outputs": [],
   "source": [
    "_ = ok.submit()"
   ]
  },
  {
   "cell_type": "code",
   "execution_count": null,
   "metadata": {},
   "outputs": [],
   "source": []
  }
 ],
 "metadata": {
  "kernelspec": {
   "display_name": "Python 3",
   "language": "python",
   "name": "python3"
  },
  "language_info": {
   "codemirror_mode": {
    "name": "ipython",
    "version": 3
   },
   "file_extension": ".py",
   "mimetype": "text/x-python",
   "name": "python",
   "nbconvert_exporter": "python",
   "pygments_lexer": "ipython3",
   "version": "3.7.3"
  }
 },
 "nbformat": 4,
 "nbformat_minor": 2
}
